{
  "nbformat": 4,
  "nbformat_minor": 0,
  "metadata": {
    "kernelspec": {
      "display_name": "Python 3",
      "language": "python",
      "name": "python3"
    },
    "language_info": {
      "codemirror_mode": {
        "name": "ipython",
        "version": 3
      },
      "file_extension": ".py",
      "mimetype": "text/x-python",
      "name": "python",
      "nbconvert_exporter": "python",
      "pygments_lexer": "ipython3",
      "version": "3.7.7"
    },
    "colab": {
      "provenance": [],
      "include_colab_link": true
    }
  },
  "cells": [
    {
      "cell_type": "markdown",
      "metadata": {
        "id": "view-in-github",
        "colab_type": "text"
      },
      "source": [
        "<a href=\"https://colab.research.google.com/github/AlexanderValenzuela/Venture_Funding_with_Deep_Learning/blob/main/GC_venture_funding_with_deep_learning.ipynb\" target=\"_parent\"><img src=\"https://colab.research.google.com/assets/colab-badge.svg\" alt=\"Open In Colab\"/></a>"
      ]
    },
    {
      "cell_type": "markdown",
      "metadata": {
        "id": "JmEcaJzVURr_"
      },
      "source": [
        "# Venture Funding with Deep Learning\n",
        "\n",
        "You work as a risk management associate at Alphabet Soup, a venture capital firm. Alphabet Soup’s business team receives many funding applications from startups every day. This team has asked you to help them create a model that predicts whether applicants will be successful if funded by Alphabet Soup.\n",
        "\n",
        "The business team has given you a CSV containing more than 34,000 organizations that have received funding from Alphabet Soup over the years. With your knowledge of machine learning and neural networks, you decide to use the features in the provided dataset to create a binary classifier model that will predict whether an applicant will become a successful business. The CSV file contains a variety of information about these businesses, including whether or not they ultimately became successful.\n",
        "\n",
        "## Instructions:\n",
        "\n",
        "The steps for this challenge are broken out into the following sections:\n",
        "\n",
        "* Prepare the data for use on a neural network model.\n",
        "\n",
        "* Compile and evaluate a binary classification model using a neural network.\n",
        "\n",
        "* Optimize the neural network model.\n",
        "\n",
        "### Prepare the Data for Use on a Neural Network Model\n",
        "\n",
        "Using your knowledge of Pandas and scikit-learn’s `StandardScaler()`, preprocess the dataset so that you can use it to compile and evaluate the neural network model later.\n",
        "\n",
        "Open the starter code file, and complete the following data preparation steps:\n",
        "\n",
        "1. Read the `applicants_data.csv` file into a Pandas DataFrame. Review the DataFrame, looking for categorical variables that will need to be encoded, as well as columns that could eventually define your features and target variables.\n",
        "\n",
        "2. Drop the “EIN” (Employer Identification Number) and “NAME” columns from the DataFrame, because they are not relevant to the binary classification model.\n",
        "\n",
        "3. Encode the dataset’s categorical variables using `OneHotEncoder`, and then place the encoded variables into a new DataFrame.\n",
        "\n",
        "4. Add the original DataFrame’s numerical variables to the DataFrame containing the encoded variables.\n",
        "\n",
        "> **Note** To complete this step, you will employ the Pandas `concat()` function that was introduced earlier in this course.\n",
        "\n",
        "5. Using the preprocessed data, create the features (`X`) and target (`y`) datasets. The target dataset should be defined by the preprocessed DataFrame column “IS_SUCCESSFUL”. The remaining columns should define the features dataset.\n",
        "\n",
        "6. Split the features and target sets into training and testing datasets.\n",
        "\n",
        "7. Use scikit-learn's `StandardScaler` to scale the features data.\n",
        "\n",
        "### Compile and Evaluate a Binary Classification Model Using a Neural Network\n",
        "\n",
        "Use your knowledge of TensorFlow to design a binary classification deep neural network model. This model should use the dataset’s features to predict whether an Alphabet Soup&ndash;funded startup will be successful based on the features in the dataset. Consider the number of inputs before determining the number of layers that your model will contain or the number of neurons on each layer. Then, compile and fit your model. Finally, evaluate your binary classification model to calculate the model’s loss and accuracy.\n",
        "\n",
        "To do so, complete the following steps:\n",
        "\n",
        "1. Create a deep neural network by assigning the number of input features, the number of layers, and the number of neurons on each layer using Tensorflow’s Keras.\n",
        "\n",
        "> **Hint** You can start with a two-layer deep neural network model that uses the `relu` activation function for both layers.\n",
        "\n",
        "2. Compile and fit the model using the `binary_crossentropy` loss function, the `adam` optimizer, and the `accuracy` evaluation metric.\n",
        "\n",
        "> **Hint** When fitting the model, start with a small number of epochs, such as 20, 50, or 100.\n",
        "\n",
        "3. Evaluate the model using the test data to determine the model’s loss and accuracy.\n",
        "\n",
        "4. Save and export your model to an HDF5 file, and name the file `AlphabetSoup.h5`.\n",
        "\n",
        "### Optimize the Neural Network Model\n",
        "\n",
        "Using your knowledge of TensorFlow and Keras, optimize your model to improve the model's accuracy. Even if you do not successfully achieve a better accuracy, you'll need to demonstrate at least two attempts to optimize the model. You can include these attempts in your existing notebook. Or, you can make copies of the starter notebook in the same folder, rename them, and code each model optimization in a new notebook.\n",
        "\n",
        "> **Note** You will not lose points if your model does not achieve a high accuracy, as long as you make at least two attempts to optimize the model.\n",
        "\n",
        "To do so, complete the following steps:\n",
        "\n",
        "1. Define at least three new deep neural network models (the original plus 2 optimization attempts). With each, try to improve on your first model’s predictive accuracy.\n",
        "\n",
        "> **Rewind** Recall that perfect accuracy has a value of 1, so accuracy improves as its value moves closer to 1. To optimize your model for a predictive accuracy as close to 1 as possible, you can use any or all of the following techniques:\n",
        ">\n",
        "> * Adjust the input data by dropping different features columns to ensure that no variables or outliers confuse the model.\n",
        ">\n",
        "> * Add more neurons (nodes) to a hidden layer.\n",
        ">\n",
        "> * Add more hidden layers.\n",
        ">\n",
        "> * Use different activation functions for the hidden layers.\n",
        ">\n",
        "> * Add to or reduce the number of epochs in the training regimen.\n",
        "\n",
        "2. After finishing your models, display the accuracy scores achieved by each model, and compare the results.\n",
        "\n",
        "3. Save each of your models as an HDF5 file.\n"
      ]
    },
    {
      "cell_type": "code",
      "metadata": {
        "id": "6XiL4BeyURsD"
      },
      "source": [
        "# Imports\n",
        "import pandas as pd\n",
        "import tensorflow as tf\n",
        "from tensorflow import keras\n",
        "from keras.layers import Dense\n",
        "from keras.models import Sequential, load_model\n",
        "from sklearn.model_selection import train_test_split\n",
        "from sklearn.preprocessing import StandardScaler,OneHotEncoder"
      ],
      "execution_count": 46,
      "outputs": []
    },
    {
      "cell_type": "markdown",
      "metadata": {
        "id": "JzvfMq--URsD"
      },
      "source": [
        "---\n",
        "\n",
        "## Prepare the data to be used on a neural network model"
      ]
    },
    {
      "cell_type": "markdown",
      "metadata": {
        "id": "pJWhWy1zURsE"
      },
      "source": [
        "### Step 1: Read the `applicants_data.csv` file into a Pandas DataFrame. Review the DataFrame, looking for categorical variables that will need to be encoded, as well as columns that could eventually define your features and target variables.\n"
      ]
    },
    {
      "cell_type": "code",
      "source": [
        "# Mount Google Drive in Colab\n",
        "\n",
        "from google.colab import drive\n",
        "drive.mount('/content/drive')"
      ],
      "metadata": {
        "id": "jIzPcgp5sR0o",
        "colab": {
          "base_uri": "https://localhost:8080/"
        },
        "outputId": "e36feeb6-8a56-4dba-c137-d81ebb1d0ebe"
      },
      "execution_count": 47,
      "outputs": [
        {
          "output_type": "stream",
          "name": "stdout",
          "text": [
            "Drive already mounted at /content/drive; to attempt to forcibly remount, call drive.mount(\"/content/drive\", force_remount=True).\n"
          ]
        }
      ]
    },
    {
      "cell_type": "code",
      "metadata": {
        "id": "5GsFRRuGU9r-"
      },
      "source": [
        "# Upload credit_card_transactions.csv to Colab\n",
        "# from google.colab import files\n",
        "\n",
        "# csv_file = files.upload()"
      ],
      "execution_count": 48,
      "outputs": []
    },
    {
      "cell_type": "code",
      "metadata": {
        "id": "gSTFDSzYURsE",
        "colab": {
          "base_uri": "https://localhost:8080/",
          "height": 206
        },
        "outputId": "12759094-1bc1-4d58-e630-24375bac0fae"
      },
      "source": [
        "# Read the applicants_data.csv file from Google Drive into a Pandas DataFrame\n",
        "applicant_data_df = pd.read_csv('/content/drive/MyDrive/Colab Notebooks/applicants_data.csv')\n",
        "\n",
        "# Review the DataFrame\n",
        "applicant_data_df.head()\n"
      ],
      "execution_count": 49,
      "outputs": [
        {
          "output_type": "execute_result",
          "data": {
            "text/plain": [
              "        EIN                                      NAME APPLICATION_TYPE  \\\n",
              "0  10520599              BLUE KNIGHTS MOTORCYCLE CLUB              T10   \n",
              "1  10531628    AMERICAN CHESAPEAKE CLUB CHARITABLE TR               T3   \n",
              "2  10547893        ST CLOUD PROFESSIONAL FIREFIGHTERS               T5   \n",
              "3  10553066            SOUTHSIDE ATHLETIC ASSOCIATION               T3   \n",
              "4  10556103  GENETIC RESEARCH INSTITUTE OF THE DESERT               T3   \n",
              "\n",
              "        AFFILIATION CLASSIFICATION      USE_CASE  ORGANIZATION  STATUS  \\\n",
              "0       Independent          C1000    ProductDev   Association       1   \n",
              "1       Independent          C2000  Preservation  Co-operative       1   \n",
              "2  CompanySponsored          C3000    ProductDev   Association       1   \n",
              "3  CompanySponsored          C2000  Preservation         Trust       1   \n",
              "4       Independent          C1000     Heathcare         Trust       1   \n",
              "\n",
              "      INCOME_AMT SPECIAL_CONSIDERATIONS  ASK_AMT  IS_SUCCESSFUL  \n",
              "0              0                      N     5000              1  \n",
              "1         1-9999                      N   108590              1  \n",
              "2              0                      N     5000              0  \n",
              "3    10000-24999                      N     6692              1  \n",
              "4  100000-499999                      N   142590              1  "
            ],
            "text/html": [
              "\n",
              "  <div id=\"df-d7aaa154-4fdc-421a-ba1a-801b7b47fe8b\">\n",
              "    <div class=\"colab-df-container\">\n",
              "      <div>\n",
              "<style scoped>\n",
              "    .dataframe tbody tr th:only-of-type {\n",
              "        vertical-align: middle;\n",
              "    }\n",
              "\n",
              "    .dataframe tbody tr th {\n",
              "        vertical-align: top;\n",
              "    }\n",
              "\n",
              "    .dataframe thead th {\n",
              "        text-align: right;\n",
              "    }\n",
              "</style>\n",
              "<table border=\"1\" class=\"dataframe\">\n",
              "  <thead>\n",
              "    <tr style=\"text-align: right;\">\n",
              "      <th></th>\n",
              "      <th>EIN</th>\n",
              "      <th>NAME</th>\n",
              "      <th>APPLICATION_TYPE</th>\n",
              "      <th>AFFILIATION</th>\n",
              "      <th>CLASSIFICATION</th>\n",
              "      <th>USE_CASE</th>\n",
              "      <th>ORGANIZATION</th>\n",
              "      <th>STATUS</th>\n",
              "      <th>INCOME_AMT</th>\n",
              "      <th>SPECIAL_CONSIDERATIONS</th>\n",
              "      <th>ASK_AMT</th>\n",
              "      <th>IS_SUCCESSFUL</th>\n",
              "    </tr>\n",
              "  </thead>\n",
              "  <tbody>\n",
              "    <tr>\n",
              "      <th>0</th>\n",
              "      <td>10520599</td>\n",
              "      <td>BLUE KNIGHTS MOTORCYCLE CLUB</td>\n",
              "      <td>T10</td>\n",
              "      <td>Independent</td>\n",
              "      <td>C1000</td>\n",
              "      <td>ProductDev</td>\n",
              "      <td>Association</td>\n",
              "      <td>1</td>\n",
              "      <td>0</td>\n",
              "      <td>N</td>\n",
              "      <td>5000</td>\n",
              "      <td>1</td>\n",
              "    </tr>\n",
              "    <tr>\n",
              "      <th>1</th>\n",
              "      <td>10531628</td>\n",
              "      <td>AMERICAN CHESAPEAKE CLUB CHARITABLE TR</td>\n",
              "      <td>T3</td>\n",
              "      <td>Independent</td>\n",
              "      <td>C2000</td>\n",
              "      <td>Preservation</td>\n",
              "      <td>Co-operative</td>\n",
              "      <td>1</td>\n",
              "      <td>1-9999</td>\n",
              "      <td>N</td>\n",
              "      <td>108590</td>\n",
              "      <td>1</td>\n",
              "    </tr>\n",
              "    <tr>\n",
              "      <th>2</th>\n",
              "      <td>10547893</td>\n",
              "      <td>ST CLOUD PROFESSIONAL FIREFIGHTERS</td>\n",
              "      <td>T5</td>\n",
              "      <td>CompanySponsored</td>\n",
              "      <td>C3000</td>\n",
              "      <td>ProductDev</td>\n",
              "      <td>Association</td>\n",
              "      <td>1</td>\n",
              "      <td>0</td>\n",
              "      <td>N</td>\n",
              "      <td>5000</td>\n",
              "      <td>0</td>\n",
              "    </tr>\n",
              "    <tr>\n",
              "      <th>3</th>\n",
              "      <td>10553066</td>\n",
              "      <td>SOUTHSIDE ATHLETIC ASSOCIATION</td>\n",
              "      <td>T3</td>\n",
              "      <td>CompanySponsored</td>\n",
              "      <td>C2000</td>\n",
              "      <td>Preservation</td>\n",
              "      <td>Trust</td>\n",
              "      <td>1</td>\n",
              "      <td>10000-24999</td>\n",
              "      <td>N</td>\n",
              "      <td>6692</td>\n",
              "      <td>1</td>\n",
              "    </tr>\n",
              "    <tr>\n",
              "      <th>4</th>\n",
              "      <td>10556103</td>\n",
              "      <td>GENETIC RESEARCH INSTITUTE OF THE DESERT</td>\n",
              "      <td>T3</td>\n",
              "      <td>Independent</td>\n",
              "      <td>C1000</td>\n",
              "      <td>Heathcare</td>\n",
              "      <td>Trust</td>\n",
              "      <td>1</td>\n",
              "      <td>100000-499999</td>\n",
              "      <td>N</td>\n",
              "      <td>142590</td>\n",
              "      <td>1</td>\n",
              "    </tr>\n",
              "  </tbody>\n",
              "</table>\n",
              "</div>\n",
              "      <button class=\"colab-df-convert\" onclick=\"convertToInteractive('df-d7aaa154-4fdc-421a-ba1a-801b7b47fe8b')\"\n",
              "              title=\"Convert this dataframe to an interactive table.\"\n",
              "              style=\"display:none;\">\n",
              "        \n",
              "  <svg xmlns=\"http://www.w3.org/2000/svg\" height=\"24px\"viewBox=\"0 0 24 24\"\n",
              "       width=\"24px\">\n",
              "    <path d=\"M0 0h24v24H0V0z\" fill=\"none\"/>\n",
              "    <path d=\"M18.56 5.44l.94 2.06.94-2.06 2.06-.94-2.06-.94-.94-2.06-.94 2.06-2.06.94zm-11 1L8.5 8.5l.94-2.06 2.06-.94-2.06-.94L8.5 2.5l-.94 2.06-2.06.94zm10 10l.94 2.06.94-2.06 2.06-.94-2.06-.94-.94-2.06-.94 2.06-2.06.94z\"/><path d=\"M17.41 7.96l-1.37-1.37c-.4-.4-.92-.59-1.43-.59-.52 0-1.04.2-1.43.59L10.3 9.45l-7.72 7.72c-.78.78-.78 2.05 0 2.83L4 21.41c.39.39.9.59 1.41.59.51 0 1.02-.2 1.41-.59l7.78-7.78 2.81-2.81c.8-.78.8-2.07 0-2.86zM5.41 20L4 18.59l7.72-7.72 1.47 1.35L5.41 20z\"/>\n",
              "  </svg>\n",
              "      </button>\n",
              "      \n",
              "  <style>\n",
              "    .colab-df-container {\n",
              "      display:flex;\n",
              "      flex-wrap:wrap;\n",
              "      gap: 12px;\n",
              "    }\n",
              "\n",
              "    .colab-df-convert {\n",
              "      background-color: #E8F0FE;\n",
              "      border: none;\n",
              "      border-radius: 50%;\n",
              "      cursor: pointer;\n",
              "      display: none;\n",
              "      fill: #1967D2;\n",
              "      height: 32px;\n",
              "      padding: 0 0 0 0;\n",
              "      width: 32px;\n",
              "    }\n",
              "\n",
              "    .colab-df-convert:hover {\n",
              "      background-color: #E2EBFA;\n",
              "      box-shadow: 0px 1px 2px rgba(60, 64, 67, 0.3), 0px 1px 3px 1px rgba(60, 64, 67, 0.15);\n",
              "      fill: #174EA6;\n",
              "    }\n",
              "\n",
              "    [theme=dark] .colab-df-convert {\n",
              "      background-color: #3B4455;\n",
              "      fill: #D2E3FC;\n",
              "    }\n",
              "\n",
              "    [theme=dark] .colab-df-convert:hover {\n",
              "      background-color: #434B5C;\n",
              "      box-shadow: 0px 1px 3px 1px rgba(0, 0, 0, 0.15);\n",
              "      filter: drop-shadow(0px 1px 2px rgba(0, 0, 0, 0.3));\n",
              "      fill: #FFFFFF;\n",
              "    }\n",
              "  </style>\n",
              "\n",
              "      <script>\n",
              "        const buttonEl =\n",
              "          document.querySelector('#df-d7aaa154-4fdc-421a-ba1a-801b7b47fe8b button.colab-df-convert');\n",
              "        buttonEl.style.display =\n",
              "          google.colab.kernel.accessAllowed ? 'block' : 'none';\n",
              "\n",
              "        async function convertToInteractive(key) {\n",
              "          const element = document.querySelector('#df-d7aaa154-4fdc-421a-ba1a-801b7b47fe8b');\n",
              "          const dataTable =\n",
              "            await google.colab.kernel.invokeFunction('convertToInteractive',\n",
              "                                                     [key], {});\n",
              "          if (!dataTable) return;\n",
              "\n",
              "          const docLinkHtml = 'Like what you see? Visit the ' +\n",
              "            '<a target=\"_blank\" href=https://colab.research.google.com/notebooks/data_table.ipynb>data table notebook</a>'\n",
              "            + ' to learn more about interactive tables.';\n",
              "          element.innerHTML = '';\n",
              "          dataTable['output_type'] = 'display_data';\n",
              "          await google.colab.output.renderOutput(dataTable, element);\n",
              "          const docLink = document.createElement('div');\n",
              "          docLink.innerHTML = docLinkHtml;\n",
              "          element.appendChild(docLink);\n",
              "        }\n",
              "      </script>\n",
              "    </div>\n",
              "  </div>\n",
              "  "
            ]
          },
          "metadata": {},
          "execution_count": 49
        }
      ]
    },
    {
      "cell_type": "code",
      "metadata": {
        "id": "C-WB0yc4URsE",
        "colab": {
          "base_uri": "https://localhost:8080/"
        },
        "outputId": "45a42a0f-2ed7-4194-cae2-4ffcfe9946a3"
      },
      "source": [
        "# Review the data types associated with the columns\n",
        "applicant_data_df.info()\n"
      ],
      "execution_count": 50,
      "outputs": [
        {
          "output_type": "stream",
          "name": "stdout",
          "text": [
            "<class 'pandas.core.frame.DataFrame'>\n",
            "RangeIndex: 34299 entries, 0 to 34298\n",
            "Data columns (total 12 columns):\n",
            " #   Column                  Non-Null Count  Dtype \n",
            "---  ------                  --------------  ----- \n",
            " 0   EIN                     34299 non-null  int64 \n",
            " 1   NAME                    34299 non-null  object\n",
            " 2   APPLICATION_TYPE        34299 non-null  object\n",
            " 3   AFFILIATION             34299 non-null  object\n",
            " 4   CLASSIFICATION          34299 non-null  object\n",
            " 5   USE_CASE                34299 non-null  object\n",
            " 6   ORGANIZATION            34299 non-null  object\n",
            " 7   STATUS                  34299 non-null  int64 \n",
            " 8   INCOME_AMT              34299 non-null  object\n",
            " 9   SPECIAL_CONSIDERATIONS  34299 non-null  object\n",
            " 10  ASK_AMT                 34299 non-null  int64 \n",
            " 11  IS_SUCCESSFUL           34299 non-null  int64 \n",
            "dtypes: int64(4), object(8)\n",
            "memory usage: 3.1+ MB\n"
          ]
        }
      ]
    },
    {
      "cell_type": "markdown",
      "metadata": {
        "id": "XCwg3ahTURsE"
      },
      "source": [
        "### Step 2: Drop the “EIN” (Employer Identification Number) and “NAME” columns from the DataFrame, because they are not relevant to the binary classification model."
      ]
    },
    {
      "cell_type": "code",
      "metadata": {
        "id": "dj7yoYaAURsE",
        "colab": {
          "base_uri": "https://localhost:8080/",
          "height": 395
        },
        "outputId": "be0a5603-0645-4972-f0ed-000b74bebb6e"
      },
      "source": [
        "# Drop the 'EIN' and 'NAME' columns from the DataFrame\n",
        "applicant_data_df = applicant_data_df.drop(columns=['EIN','NAME'])\n",
        "\n",
        "# Review the DataFrame\n",
        "display(applicant_data_df.head())\n",
        "display(applicant_data_df.tail())"
      ],
      "execution_count": 51,
      "outputs": [
        {
          "output_type": "display_data",
          "data": {
            "text/plain": [
              "  APPLICATION_TYPE       AFFILIATION CLASSIFICATION      USE_CASE  \\\n",
              "0              T10       Independent          C1000    ProductDev   \n",
              "1               T3       Independent          C2000  Preservation   \n",
              "2               T5  CompanySponsored          C3000    ProductDev   \n",
              "3               T3  CompanySponsored          C2000  Preservation   \n",
              "4               T3       Independent          C1000     Heathcare   \n",
              "\n",
              "   ORGANIZATION  STATUS     INCOME_AMT SPECIAL_CONSIDERATIONS  ASK_AMT  \\\n",
              "0   Association       1              0                      N     5000   \n",
              "1  Co-operative       1         1-9999                      N   108590   \n",
              "2   Association       1              0                      N     5000   \n",
              "3         Trust       1    10000-24999                      N     6692   \n",
              "4         Trust       1  100000-499999                      N   142590   \n",
              "\n",
              "   IS_SUCCESSFUL  \n",
              "0              1  \n",
              "1              1  \n",
              "2              0  \n",
              "3              1  \n",
              "4              1  "
            ],
            "text/html": [
              "\n",
              "  <div id=\"df-40ce43fa-0e06-4889-b04d-71013d3475ed\">\n",
              "    <div class=\"colab-df-container\">\n",
              "      <div>\n",
              "<style scoped>\n",
              "    .dataframe tbody tr th:only-of-type {\n",
              "        vertical-align: middle;\n",
              "    }\n",
              "\n",
              "    .dataframe tbody tr th {\n",
              "        vertical-align: top;\n",
              "    }\n",
              "\n",
              "    .dataframe thead th {\n",
              "        text-align: right;\n",
              "    }\n",
              "</style>\n",
              "<table border=\"1\" class=\"dataframe\">\n",
              "  <thead>\n",
              "    <tr style=\"text-align: right;\">\n",
              "      <th></th>\n",
              "      <th>APPLICATION_TYPE</th>\n",
              "      <th>AFFILIATION</th>\n",
              "      <th>CLASSIFICATION</th>\n",
              "      <th>USE_CASE</th>\n",
              "      <th>ORGANIZATION</th>\n",
              "      <th>STATUS</th>\n",
              "      <th>INCOME_AMT</th>\n",
              "      <th>SPECIAL_CONSIDERATIONS</th>\n",
              "      <th>ASK_AMT</th>\n",
              "      <th>IS_SUCCESSFUL</th>\n",
              "    </tr>\n",
              "  </thead>\n",
              "  <tbody>\n",
              "    <tr>\n",
              "      <th>0</th>\n",
              "      <td>T10</td>\n",
              "      <td>Independent</td>\n",
              "      <td>C1000</td>\n",
              "      <td>ProductDev</td>\n",
              "      <td>Association</td>\n",
              "      <td>1</td>\n",
              "      <td>0</td>\n",
              "      <td>N</td>\n",
              "      <td>5000</td>\n",
              "      <td>1</td>\n",
              "    </tr>\n",
              "    <tr>\n",
              "      <th>1</th>\n",
              "      <td>T3</td>\n",
              "      <td>Independent</td>\n",
              "      <td>C2000</td>\n",
              "      <td>Preservation</td>\n",
              "      <td>Co-operative</td>\n",
              "      <td>1</td>\n",
              "      <td>1-9999</td>\n",
              "      <td>N</td>\n",
              "      <td>108590</td>\n",
              "      <td>1</td>\n",
              "    </tr>\n",
              "    <tr>\n",
              "      <th>2</th>\n",
              "      <td>T5</td>\n",
              "      <td>CompanySponsored</td>\n",
              "      <td>C3000</td>\n",
              "      <td>ProductDev</td>\n",
              "      <td>Association</td>\n",
              "      <td>1</td>\n",
              "      <td>0</td>\n",
              "      <td>N</td>\n",
              "      <td>5000</td>\n",
              "      <td>0</td>\n",
              "    </tr>\n",
              "    <tr>\n",
              "      <th>3</th>\n",
              "      <td>T3</td>\n",
              "      <td>CompanySponsored</td>\n",
              "      <td>C2000</td>\n",
              "      <td>Preservation</td>\n",
              "      <td>Trust</td>\n",
              "      <td>1</td>\n",
              "      <td>10000-24999</td>\n",
              "      <td>N</td>\n",
              "      <td>6692</td>\n",
              "      <td>1</td>\n",
              "    </tr>\n",
              "    <tr>\n",
              "      <th>4</th>\n",
              "      <td>T3</td>\n",
              "      <td>Independent</td>\n",
              "      <td>C1000</td>\n",
              "      <td>Heathcare</td>\n",
              "      <td>Trust</td>\n",
              "      <td>1</td>\n",
              "      <td>100000-499999</td>\n",
              "      <td>N</td>\n",
              "      <td>142590</td>\n",
              "      <td>1</td>\n",
              "    </tr>\n",
              "  </tbody>\n",
              "</table>\n",
              "</div>\n",
              "      <button class=\"colab-df-convert\" onclick=\"convertToInteractive('df-40ce43fa-0e06-4889-b04d-71013d3475ed')\"\n",
              "              title=\"Convert this dataframe to an interactive table.\"\n",
              "              style=\"display:none;\">\n",
              "        \n",
              "  <svg xmlns=\"http://www.w3.org/2000/svg\" height=\"24px\"viewBox=\"0 0 24 24\"\n",
              "       width=\"24px\">\n",
              "    <path d=\"M0 0h24v24H0V0z\" fill=\"none\"/>\n",
              "    <path d=\"M18.56 5.44l.94 2.06.94-2.06 2.06-.94-2.06-.94-.94-2.06-.94 2.06-2.06.94zm-11 1L8.5 8.5l.94-2.06 2.06-.94-2.06-.94L8.5 2.5l-.94 2.06-2.06.94zm10 10l.94 2.06.94-2.06 2.06-.94-2.06-.94-.94-2.06-.94 2.06-2.06.94z\"/><path d=\"M17.41 7.96l-1.37-1.37c-.4-.4-.92-.59-1.43-.59-.52 0-1.04.2-1.43.59L10.3 9.45l-7.72 7.72c-.78.78-.78 2.05 0 2.83L4 21.41c.39.39.9.59 1.41.59.51 0 1.02-.2 1.41-.59l7.78-7.78 2.81-2.81c.8-.78.8-2.07 0-2.86zM5.41 20L4 18.59l7.72-7.72 1.47 1.35L5.41 20z\"/>\n",
              "  </svg>\n",
              "      </button>\n",
              "      \n",
              "  <style>\n",
              "    .colab-df-container {\n",
              "      display:flex;\n",
              "      flex-wrap:wrap;\n",
              "      gap: 12px;\n",
              "    }\n",
              "\n",
              "    .colab-df-convert {\n",
              "      background-color: #E8F0FE;\n",
              "      border: none;\n",
              "      border-radius: 50%;\n",
              "      cursor: pointer;\n",
              "      display: none;\n",
              "      fill: #1967D2;\n",
              "      height: 32px;\n",
              "      padding: 0 0 0 0;\n",
              "      width: 32px;\n",
              "    }\n",
              "\n",
              "    .colab-df-convert:hover {\n",
              "      background-color: #E2EBFA;\n",
              "      box-shadow: 0px 1px 2px rgba(60, 64, 67, 0.3), 0px 1px 3px 1px rgba(60, 64, 67, 0.15);\n",
              "      fill: #174EA6;\n",
              "    }\n",
              "\n",
              "    [theme=dark] .colab-df-convert {\n",
              "      background-color: #3B4455;\n",
              "      fill: #D2E3FC;\n",
              "    }\n",
              "\n",
              "    [theme=dark] .colab-df-convert:hover {\n",
              "      background-color: #434B5C;\n",
              "      box-shadow: 0px 1px 3px 1px rgba(0, 0, 0, 0.15);\n",
              "      filter: drop-shadow(0px 1px 2px rgba(0, 0, 0, 0.3));\n",
              "      fill: #FFFFFF;\n",
              "    }\n",
              "  </style>\n",
              "\n",
              "      <script>\n",
              "        const buttonEl =\n",
              "          document.querySelector('#df-40ce43fa-0e06-4889-b04d-71013d3475ed button.colab-df-convert');\n",
              "        buttonEl.style.display =\n",
              "          google.colab.kernel.accessAllowed ? 'block' : 'none';\n",
              "\n",
              "        async function convertToInteractive(key) {\n",
              "          const element = document.querySelector('#df-40ce43fa-0e06-4889-b04d-71013d3475ed');\n",
              "          const dataTable =\n",
              "            await google.colab.kernel.invokeFunction('convertToInteractive',\n",
              "                                                     [key], {});\n",
              "          if (!dataTable) return;\n",
              "\n",
              "          const docLinkHtml = 'Like what you see? Visit the ' +\n",
              "            '<a target=\"_blank\" href=https://colab.research.google.com/notebooks/data_table.ipynb>data table notebook</a>'\n",
              "            + ' to learn more about interactive tables.';\n",
              "          element.innerHTML = '';\n",
              "          dataTable['output_type'] = 'display_data';\n",
              "          await google.colab.output.renderOutput(dataTable, element);\n",
              "          const docLink = document.createElement('div');\n",
              "          docLink.innerHTML = docLinkHtml;\n",
              "          element.appendChild(docLink);\n",
              "        }\n",
              "      </script>\n",
              "    </div>\n",
              "  </div>\n",
              "  "
            ]
          },
          "metadata": {}
        },
        {
          "output_type": "display_data",
          "data": {
            "text/plain": [
              "      APPLICATION_TYPE       AFFILIATION CLASSIFICATION      USE_CASE  \\\n",
              "34294               T4       Independent          C1000    ProductDev   \n",
              "34295               T4  CompanySponsored          C3000    ProductDev   \n",
              "34296               T3  CompanySponsored          C2000  Preservation   \n",
              "34297               T5       Independent          C3000    ProductDev   \n",
              "34298               T3       Independent          C1000  Preservation   \n",
              "\n",
              "       ORGANIZATION  STATUS INCOME_AMT SPECIAL_CONSIDERATIONS   ASK_AMT  \\\n",
              "34294   Association       1          0                      N      5000   \n",
              "34295   Association       1          0                      N      5000   \n",
              "34296   Association       1          0                      N      5000   \n",
              "34297   Association       1          0                      N      5000   \n",
              "34298  Co-operative       1      1M-5M                      N  36500179   \n",
              "\n",
              "       IS_SUCCESSFUL  \n",
              "34294              0  \n",
              "34295              0  \n",
              "34296              0  \n",
              "34297              1  \n",
              "34298              0  "
            ],
            "text/html": [
              "\n",
              "  <div id=\"df-6aa95b1c-1797-46ed-8050-3a9ee60b9915\">\n",
              "    <div class=\"colab-df-container\">\n",
              "      <div>\n",
              "<style scoped>\n",
              "    .dataframe tbody tr th:only-of-type {\n",
              "        vertical-align: middle;\n",
              "    }\n",
              "\n",
              "    .dataframe tbody tr th {\n",
              "        vertical-align: top;\n",
              "    }\n",
              "\n",
              "    .dataframe thead th {\n",
              "        text-align: right;\n",
              "    }\n",
              "</style>\n",
              "<table border=\"1\" class=\"dataframe\">\n",
              "  <thead>\n",
              "    <tr style=\"text-align: right;\">\n",
              "      <th></th>\n",
              "      <th>APPLICATION_TYPE</th>\n",
              "      <th>AFFILIATION</th>\n",
              "      <th>CLASSIFICATION</th>\n",
              "      <th>USE_CASE</th>\n",
              "      <th>ORGANIZATION</th>\n",
              "      <th>STATUS</th>\n",
              "      <th>INCOME_AMT</th>\n",
              "      <th>SPECIAL_CONSIDERATIONS</th>\n",
              "      <th>ASK_AMT</th>\n",
              "      <th>IS_SUCCESSFUL</th>\n",
              "    </tr>\n",
              "  </thead>\n",
              "  <tbody>\n",
              "    <tr>\n",
              "      <th>34294</th>\n",
              "      <td>T4</td>\n",
              "      <td>Independent</td>\n",
              "      <td>C1000</td>\n",
              "      <td>ProductDev</td>\n",
              "      <td>Association</td>\n",
              "      <td>1</td>\n",
              "      <td>0</td>\n",
              "      <td>N</td>\n",
              "      <td>5000</td>\n",
              "      <td>0</td>\n",
              "    </tr>\n",
              "    <tr>\n",
              "      <th>34295</th>\n",
              "      <td>T4</td>\n",
              "      <td>CompanySponsored</td>\n",
              "      <td>C3000</td>\n",
              "      <td>ProductDev</td>\n",
              "      <td>Association</td>\n",
              "      <td>1</td>\n",
              "      <td>0</td>\n",
              "      <td>N</td>\n",
              "      <td>5000</td>\n",
              "      <td>0</td>\n",
              "    </tr>\n",
              "    <tr>\n",
              "      <th>34296</th>\n",
              "      <td>T3</td>\n",
              "      <td>CompanySponsored</td>\n",
              "      <td>C2000</td>\n",
              "      <td>Preservation</td>\n",
              "      <td>Association</td>\n",
              "      <td>1</td>\n",
              "      <td>0</td>\n",
              "      <td>N</td>\n",
              "      <td>5000</td>\n",
              "      <td>0</td>\n",
              "    </tr>\n",
              "    <tr>\n",
              "      <th>34297</th>\n",
              "      <td>T5</td>\n",
              "      <td>Independent</td>\n",
              "      <td>C3000</td>\n",
              "      <td>ProductDev</td>\n",
              "      <td>Association</td>\n",
              "      <td>1</td>\n",
              "      <td>0</td>\n",
              "      <td>N</td>\n",
              "      <td>5000</td>\n",
              "      <td>1</td>\n",
              "    </tr>\n",
              "    <tr>\n",
              "      <th>34298</th>\n",
              "      <td>T3</td>\n",
              "      <td>Independent</td>\n",
              "      <td>C1000</td>\n",
              "      <td>Preservation</td>\n",
              "      <td>Co-operative</td>\n",
              "      <td>1</td>\n",
              "      <td>1M-5M</td>\n",
              "      <td>N</td>\n",
              "      <td>36500179</td>\n",
              "      <td>0</td>\n",
              "    </tr>\n",
              "  </tbody>\n",
              "</table>\n",
              "</div>\n",
              "      <button class=\"colab-df-convert\" onclick=\"convertToInteractive('df-6aa95b1c-1797-46ed-8050-3a9ee60b9915')\"\n",
              "              title=\"Convert this dataframe to an interactive table.\"\n",
              "              style=\"display:none;\">\n",
              "        \n",
              "  <svg xmlns=\"http://www.w3.org/2000/svg\" height=\"24px\"viewBox=\"0 0 24 24\"\n",
              "       width=\"24px\">\n",
              "    <path d=\"M0 0h24v24H0V0z\" fill=\"none\"/>\n",
              "    <path d=\"M18.56 5.44l.94 2.06.94-2.06 2.06-.94-2.06-.94-.94-2.06-.94 2.06-2.06.94zm-11 1L8.5 8.5l.94-2.06 2.06-.94-2.06-.94L8.5 2.5l-.94 2.06-2.06.94zm10 10l.94 2.06.94-2.06 2.06-.94-2.06-.94-.94-2.06-.94 2.06-2.06.94z\"/><path d=\"M17.41 7.96l-1.37-1.37c-.4-.4-.92-.59-1.43-.59-.52 0-1.04.2-1.43.59L10.3 9.45l-7.72 7.72c-.78.78-.78 2.05 0 2.83L4 21.41c.39.39.9.59 1.41.59.51 0 1.02-.2 1.41-.59l7.78-7.78 2.81-2.81c.8-.78.8-2.07 0-2.86zM5.41 20L4 18.59l7.72-7.72 1.47 1.35L5.41 20z\"/>\n",
              "  </svg>\n",
              "      </button>\n",
              "      \n",
              "  <style>\n",
              "    .colab-df-container {\n",
              "      display:flex;\n",
              "      flex-wrap:wrap;\n",
              "      gap: 12px;\n",
              "    }\n",
              "\n",
              "    .colab-df-convert {\n",
              "      background-color: #E8F0FE;\n",
              "      border: none;\n",
              "      border-radius: 50%;\n",
              "      cursor: pointer;\n",
              "      display: none;\n",
              "      fill: #1967D2;\n",
              "      height: 32px;\n",
              "      padding: 0 0 0 0;\n",
              "      width: 32px;\n",
              "    }\n",
              "\n",
              "    .colab-df-convert:hover {\n",
              "      background-color: #E2EBFA;\n",
              "      box-shadow: 0px 1px 2px rgba(60, 64, 67, 0.3), 0px 1px 3px 1px rgba(60, 64, 67, 0.15);\n",
              "      fill: #174EA6;\n",
              "    }\n",
              "\n",
              "    [theme=dark] .colab-df-convert {\n",
              "      background-color: #3B4455;\n",
              "      fill: #D2E3FC;\n",
              "    }\n",
              "\n",
              "    [theme=dark] .colab-df-convert:hover {\n",
              "      background-color: #434B5C;\n",
              "      box-shadow: 0px 1px 3px 1px rgba(0, 0, 0, 0.15);\n",
              "      filter: drop-shadow(0px 1px 2px rgba(0, 0, 0, 0.3));\n",
              "      fill: #FFFFFF;\n",
              "    }\n",
              "  </style>\n",
              "\n",
              "      <script>\n",
              "        const buttonEl =\n",
              "          document.querySelector('#df-6aa95b1c-1797-46ed-8050-3a9ee60b9915 button.colab-df-convert');\n",
              "        buttonEl.style.display =\n",
              "          google.colab.kernel.accessAllowed ? 'block' : 'none';\n",
              "\n",
              "        async function convertToInteractive(key) {\n",
              "          const element = document.querySelector('#df-6aa95b1c-1797-46ed-8050-3a9ee60b9915');\n",
              "          const dataTable =\n",
              "            await google.colab.kernel.invokeFunction('convertToInteractive',\n",
              "                                                     [key], {});\n",
              "          if (!dataTable) return;\n",
              "\n",
              "          const docLinkHtml = 'Like what you see? Visit the ' +\n",
              "            '<a target=\"_blank\" href=https://colab.research.google.com/notebooks/data_table.ipynb>data table notebook</a>'\n",
              "            + ' to learn more about interactive tables.';\n",
              "          element.innerHTML = '';\n",
              "          dataTable['output_type'] = 'display_data';\n",
              "          await google.colab.output.renderOutput(dataTable, element);\n",
              "          const docLink = document.createElement('div');\n",
              "          docLink.innerHTML = docLinkHtml;\n",
              "          element.appendChild(docLink);\n",
              "        }\n",
              "      </script>\n",
              "    </div>\n",
              "  </div>\n",
              "  "
            ]
          },
          "metadata": {}
        }
      ]
    },
    {
      "cell_type": "markdown",
      "metadata": {
        "id": "WFF35NwZURsF"
      },
      "source": [
        "### Step 3: Encode the dataset’s categorical variables using `OneHotEncoder`, and then place the encoded variables into a new DataFrame."
      ]
    },
    {
      "cell_type": "code",
      "metadata": {
        "id": "aHv_okM7URsF",
        "colab": {
          "base_uri": "https://localhost:8080/"
        },
        "outputId": "a7c7226e-459b-4863-c507-60ec035a0d4c"
      },
      "source": [
        "# Create a list of categorical variables\n",
        "categorical_variables = list(applicant_data_df.dtypes[applicant_data_df.dtypes == \"object\"].index)\n",
        "\n",
        "# Display the categorical variables list\n",
        "categorical_variables\n"
      ],
      "execution_count": 52,
      "outputs": [
        {
          "output_type": "execute_result",
          "data": {
            "text/plain": [
              "['APPLICATION_TYPE',\n",
              " 'AFFILIATION',\n",
              " 'CLASSIFICATION',\n",
              " 'USE_CASE',\n",
              " 'ORGANIZATION',\n",
              " 'INCOME_AMT',\n",
              " 'SPECIAL_CONSIDERATIONS']"
            ]
          },
          "metadata": {},
          "execution_count": 52
        }
      ]
    },
    {
      "cell_type": "code",
      "metadata": {
        "id": "IizC83_xURsF"
      },
      "source": [
        "# Create a OneHotEncoder instance\n",
        "enc = OneHotEncoder(sparse_output=False)"
      ],
      "execution_count": 53,
      "outputs": []
    },
    {
      "cell_type": "code",
      "metadata": {
        "id": "fLUlCo48URsF"
      },
      "source": [
        "# Encode the categorcal variables using OneHotEncoder\n",
        "encoded_data = enc.fit_transform(applicant_data_df[categorical_variables])\n"
      ],
      "execution_count": 54,
      "outputs": []
    },
    {
      "cell_type": "code",
      "metadata": {
        "id": "Bj-Hc08qURsF",
        "colab": {
          "base_uri": "https://localhost:8080/",
          "height": 317
        },
        "outputId": "c38d4d4b-f672-4a2e-a02d-6a9c5e74f66a"
      },
      "source": [
        "# Create a DataFrame with the encoded variables\n",
        "encoded_df = pd.DataFrame(\n",
        "    encoded_data,\n",
        "    columns = enc.get_feature_names_out(categorical_variables)\n",
        ")\n",
        "\n",
        "# Review the DataFrame\n",
        "encoded_df.head()"
      ],
      "execution_count": 55,
      "outputs": [
        {
          "output_type": "execute_result",
          "data": {
            "text/plain": [
              "   APPLICATION_TYPE_T10  APPLICATION_TYPE_T12  APPLICATION_TYPE_T13  \\\n",
              "0                   1.0                   0.0                   0.0   \n",
              "1                   0.0                   0.0                   0.0   \n",
              "2                   0.0                   0.0                   0.0   \n",
              "3                   0.0                   0.0                   0.0   \n",
              "4                   0.0                   0.0                   0.0   \n",
              "\n",
              "   APPLICATION_TYPE_T14  APPLICATION_TYPE_T15  APPLICATION_TYPE_T17  \\\n",
              "0                   0.0                   0.0                   0.0   \n",
              "1                   0.0                   0.0                   0.0   \n",
              "2                   0.0                   0.0                   0.0   \n",
              "3                   0.0                   0.0                   0.0   \n",
              "4                   0.0                   0.0                   0.0   \n",
              "\n",
              "   APPLICATION_TYPE_T19  APPLICATION_TYPE_T2  APPLICATION_TYPE_T25  \\\n",
              "0                   0.0                  0.0                   0.0   \n",
              "1                   0.0                  0.0                   0.0   \n",
              "2                   0.0                  0.0                   0.0   \n",
              "3                   0.0                  0.0                   0.0   \n",
              "4                   0.0                  0.0                   0.0   \n",
              "\n",
              "   APPLICATION_TYPE_T29  ...  INCOME_AMT_1-9999  INCOME_AMT_10000-24999  \\\n",
              "0                   0.0  ...                0.0                     0.0   \n",
              "1                   0.0  ...                1.0                     0.0   \n",
              "2                   0.0  ...                0.0                     0.0   \n",
              "3                   0.0  ...                0.0                     1.0   \n",
              "4                   0.0  ...                0.0                     0.0   \n",
              "\n",
              "   INCOME_AMT_100000-499999  INCOME_AMT_10M-50M  INCOME_AMT_1M-5M  \\\n",
              "0                       0.0                 0.0               0.0   \n",
              "1                       0.0                 0.0               0.0   \n",
              "2                       0.0                 0.0               0.0   \n",
              "3                       0.0                 0.0               0.0   \n",
              "4                       1.0                 0.0               0.0   \n",
              "\n",
              "   INCOME_AMT_25000-99999  INCOME_AMT_50M+  INCOME_AMT_5M-10M  \\\n",
              "0                     0.0              0.0                0.0   \n",
              "1                     0.0              0.0                0.0   \n",
              "2                     0.0              0.0                0.0   \n",
              "3                     0.0              0.0                0.0   \n",
              "4                     0.0              0.0                0.0   \n",
              "\n",
              "   SPECIAL_CONSIDERATIONS_N  SPECIAL_CONSIDERATIONS_Y  \n",
              "0                       1.0                       0.0  \n",
              "1                       1.0                       0.0  \n",
              "2                       1.0                       0.0  \n",
              "3                       1.0                       0.0  \n",
              "4                       1.0                       0.0  \n",
              "\n",
              "[5 rows x 114 columns]"
            ],
            "text/html": [
              "\n",
              "  <div id=\"df-d8ba1ec2-2a62-43c8-88c4-f95c3fc72c3f\">\n",
              "    <div class=\"colab-df-container\">\n",
              "      <div>\n",
              "<style scoped>\n",
              "    .dataframe tbody tr th:only-of-type {\n",
              "        vertical-align: middle;\n",
              "    }\n",
              "\n",
              "    .dataframe tbody tr th {\n",
              "        vertical-align: top;\n",
              "    }\n",
              "\n",
              "    .dataframe thead th {\n",
              "        text-align: right;\n",
              "    }\n",
              "</style>\n",
              "<table border=\"1\" class=\"dataframe\">\n",
              "  <thead>\n",
              "    <tr style=\"text-align: right;\">\n",
              "      <th></th>\n",
              "      <th>APPLICATION_TYPE_T10</th>\n",
              "      <th>APPLICATION_TYPE_T12</th>\n",
              "      <th>APPLICATION_TYPE_T13</th>\n",
              "      <th>APPLICATION_TYPE_T14</th>\n",
              "      <th>APPLICATION_TYPE_T15</th>\n",
              "      <th>APPLICATION_TYPE_T17</th>\n",
              "      <th>APPLICATION_TYPE_T19</th>\n",
              "      <th>APPLICATION_TYPE_T2</th>\n",
              "      <th>APPLICATION_TYPE_T25</th>\n",
              "      <th>APPLICATION_TYPE_T29</th>\n",
              "      <th>...</th>\n",
              "      <th>INCOME_AMT_1-9999</th>\n",
              "      <th>INCOME_AMT_10000-24999</th>\n",
              "      <th>INCOME_AMT_100000-499999</th>\n",
              "      <th>INCOME_AMT_10M-50M</th>\n",
              "      <th>INCOME_AMT_1M-5M</th>\n",
              "      <th>INCOME_AMT_25000-99999</th>\n",
              "      <th>INCOME_AMT_50M+</th>\n",
              "      <th>INCOME_AMT_5M-10M</th>\n",
              "      <th>SPECIAL_CONSIDERATIONS_N</th>\n",
              "      <th>SPECIAL_CONSIDERATIONS_Y</th>\n",
              "    </tr>\n",
              "  </thead>\n",
              "  <tbody>\n",
              "    <tr>\n",
              "      <th>0</th>\n",
              "      <td>1.0</td>\n",
              "      <td>0.0</td>\n",
              "      <td>0.0</td>\n",
              "      <td>0.0</td>\n",
              "      <td>0.0</td>\n",
              "      <td>0.0</td>\n",
              "      <td>0.0</td>\n",
              "      <td>0.0</td>\n",
              "      <td>0.0</td>\n",
              "      <td>0.0</td>\n",
              "      <td>...</td>\n",
              "      <td>0.0</td>\n",
              "      <td>0.0</td>\n",
              "      <td>0.0</td>\n",
              "      <td>0.0</td>\n",
              "      <td>0.0</td>\n",
              "      <td>0.0</td>\n",
              "      <td>0.0</td>\n",
              "      <td>0.0</td>\n",
              "      <td>1.0</td>\n",
              "      <td>0.0</td>\n",
              "    </tr>\n",
              "    <tr>\n",
              "      <th>1</th>\n",
              "      <td>0.0</td>\n",
              "      <td>0.0</td>\n",
              "      <td>0.0</td>\n",
              "      <td>0.0</td>\n",
              "      <td>0.0</td>\n",
              "      <td>0.0</td>\n",
              "      <td>0.0</td>\n",
              "      <td>0.0</td>\n",
              "      <td>0.0</td>\n",
              "      <td>0.0</td>\n",
              "      <td>...</td>\n",
              "      <td>1.0</td>\n",
              "      <td>0.0</td>\n",
              "      <td>0.0</td>\n",
              "      <td>0.0</td>\n",
              "      <td>0.0</td>\n",
              "      <td>0.0</td>\n",
              "      <td>0.0</td>\n",
              "      <td>0.0</td>\n",
              "      <td>1.0</td>\n",
              "      <td>0.0</td>\n",
              "    </tr>\n",
              "    <tr>\n",
              "      <th>2</th>\n",
              "      <td>0.0</td>\n",
              "      <td>0.0</td>\n",
              "      <td>0.0</td>\n",
              "      <td>0.0</td>\n",
              "      <td>0.0</td>\n",
              "      <td>0.0</td>\n",
              "      <td>0.0</td>\n",
              "      <td>0.0</td>\n",
              "      <td>0.0</td>\n",
              "      <td>0.0</td>\n",
              "      <td>...</td>\n",
              "      <td>0.0</td>\n",
              "      <td>0.0</td>\n",
              "      <td>0.0</td>\n",
              "      <td>0.0</td>\n",
              "      <td>0.0</td>\n",
              "      <td>0.0</td>\n",
              "      <td>0.0</td>\n",
              "      <td>0.0</td>\n",
              "      <td>1.0</td>\n",
              "      <td>0.0</td>\n",
              "    </tr>\n",
              "    <tr>\n",
              "      <th>3</th>\n",
              "      <td>0.0</td>\n",
              "      <td>0.0</td>\n",
              "      <td>0.0</td>\n",
              "      <td>0.0</td>\n",
              "      <td>0.0</td>\n",
              "      <td>0.0</td>\n",
              "      <td>0.0</td>\n",
              "      <td>0.0</td>\n",
              "      <td>0.0</td>\n",
              "      <td>0.0</td>\n",
              "      <td>...</td>\n",
              "      <td>0.0</td>\n",
              "      <td>1.0</td>\n",
              "      <td>0.0</td>\n",
              "      <td>0.0</td>\n",
              "      <td>0.0</td>\n",
              "      <td>0.0</td>\n",
              "      <td>0.0</td>\n",
              "      <td>0.0</td>\n",
              "      <td>1.0</td>\n",
              "      <td>0.0</td>\n",
              "    </tr>\n",
              "    <tr>\n",
              "      <th>4</th>\n",
              "      <td>0.0</td>\n",
              "      <td>0.0</td>\n",
              "      <td>0.0</td>\n",
              "      <td>0.0</td>\n",
              "      <td>0.0</td>\n",
              "      <td>0.0</td>\n",
              "      <td>0.0</td>\n",
              "      <td>0.0</td>\n",
              "      <td>0.0</td>\n",
              "      <td>0.0</td>\n",
              "      <td>...</td>\n",
              "      <td>0.0</td>\n",
              "      <td>0.0</td>\n",
              "      <td>1.0</td>\n",
              "      <td>0.0</td>\n",
              "      <td>0.0</td>\n",
              "      <td>0.0</td>\n",
              "      <td>0.0</td>\n",
              "      <td>0.0</td>\n",
              "      <td>1.0</td>\n",
              "      <td>0.0</td>\n",
              "    </tr>\n",
              "  </tbody>\n",
              "</table>\n",
              "<p>5 rows × 114 columns</p>\n",
              "</div>\n",
              "      <button class=\"colab-df-convert\" onclick=\"convertToInteractive('df-d8ba1ec2-2a62-43c8-88c4-f95c3fc72c3f')\"\n",
              "              title=\"Convert this dataframe to an interactive table.\"\n",
              "              style=\"display:none;\">\n",
              "        \n",
              "  <svg xmlns=\"http://www.w3.org/2000/svg\" height=\"24px\"viewBox=\"0 0 24 24\"\n",
              "       width=\"24px\">\n",
              "    <path d=\"M0 0h24v24H0V0z\" fill=\"none\"/>\n",
              "    <path d=\"M18.56 5.44l.94 2.06.94-2.06 2.06-.94-2.06-.94-.94-2.06-.94 2.06-2.06.94zm-11 1L8.5 8.5l.94-2.06 2.06-.94-2.06-.94L8.5 2.5l-.94 2.06-2.06.94zm10 10l.94 2.06.94-2.06 2.06-.94-2.06-.94-.94-2.06-.94 2.06-2.06.94z\"/><path d=\"M17.41 7.96l-1.37-1.37c-.4-.4-.92-.59-1.43-.59-.52 0-1.04.2-1.43.59L10.3 9.45l-7.72 7.72c-.78.78-.78 2.05 0 2.83L4 21.41c.39.39.9.59 1.41.59.51 0 1.02-.2 1.41-.59l7.78-7.78 2.81-2.81c.8-.78.8-2.07 0-2.86zM5.41 20L4 18.59l7.72-7.72 1.47 1.35L5.41 20z\"/>\n",
              "  </svg>\n",
              "      </button>\n",
              "      \n",
              "  <style>\n",
              "    .colab-df-container {\n",
              "      display:flex;\n",
              "      flex-wrap:wrap;\n",
              "      gap: 12px;\n",
              "    }\n",
              "\n",
              "    .colab-df-convert {\n",
              "      background-color: #E8F0FE;\n",
              "      border: none;\n",
              "      border-radius: 50%;\n",
              "      cursor: pointer;\n",
              "      display: none;\n",
              "      fill: #1967D2;\n",
              "      height: 32px;\n",
              "      padding: 0 0 0 0;\n",
              "      width: 32px;\n",
              "    }\n",
              "\n",
              "    .colab-df-convert:hover {\n",
              "      background-color: #E2EBFA;\n",
              "      box-shadow: 0px 1px 2px rgba(60, 64, 67, 0.3), 0px 1px 3px 1px rgba(60, 64, 67, 0.15);\n",
              "      fill: #174EA6;\n",
              "    }\n",
              "\n",
              "    [theme=dark] .colab-df-convert {\n",
              "      background-color: #3B4455;\n",
              "      fill: #D2E3FC;\n",
              "    }\n",
              "\n",
              "    [theme=dark] .colab-df-convert:hover {\n",
              "      background-color: #434B5C;\n",
              "      box-shadow: 0px 1px 3px 1px rgba(0, 0, 0, 0.15);\n",
              "      filter: drop-shadow(0px 1px 2px rgba(0, 0, 0, 0.3));\n",
              "      fill: #FFFFFF;\n",
              "    }\n",
              "  </style>\n",
              "\n",
              "      <script>\n",
              "        const buttonEl =\n",
              "          document.querySelector('#df-d8ba1ec2-2a62-43c8-88c4-f95c3fc72c3f button.colab-df-convert');\n",
              "        buttonEl.style.display =\n",
              "          google.colab.kernel.accessAllowed ? 'block' : 'none';\n",
              "\n",
              "        async function convertToInteractive(key) {\n",
              "          const element = document.querySelector('#df-d8ba1ec2-2a62-43c8-88c4-f95c3fc72c3f');\n",
              "          const dataTable =\n",
              "            await google.colab.kernel.invokeFunction('convertToInteractive',\n",
              "                                                     [key], {});\n",
              "          if (!dataTable) return;\n",
              "\n",
              "          const docLinkHtml = 'Like what you see? Visit the ' +\n",
              "            '<a target=\"_blank\" href=https://colab.research.google.com/notebooks/data_table.ipynb>data table notebook</a>'\n",
              "            + ' to learn more about interactive tables.';\n",
              "          element.innerHTML = '';\n",
              "          dataTable['output_type'] = 'display_data';\n",
              "          await google.colab.output.renderOutput(dataTable, element);\n",
              "          const docLink = document.createElement('div');\n",
              "          docLink.innerHTML = docLinkHtml;\n",
              "          element.appendChild(docLink);\n",
              "        }\n",
              "      </script>\n",
              "    </div>\n",
              "  </div>\n",
              "  "
            ]
          },
          "metadata": {},
          "execution_count": 55
        }
      ]
    },
    {
      "cell_type": "code",
      "source": [
        "# Create a DataFrame with the columnns containing numerical variables from the original dataset\n",
        "numerical_variables_df = applicant_data_df.drop(columns = categorical_variables)\n",
        "\n",
        "# Review the DataFrame\n",
        "numerical_variables_df.head()"
      ],
      "metadata": {
        "colab": {
          "base_uri": "https://localhost:8080/",
          "height": 206
        },
        "id": "NFMF3qmbJix8",
        "outputId": "4e4c6b5c-101f-463d-c302-bc59ffc06cc2"
      },
      "execution_count": 56,
      "outputs": [
        {
          "output_type": "execute_result",
          "data": {
            "text/plain": [
              "   STATUS  ASK_AMT  IS_SUCCESSFUL\n",
              "0       1     5000              1\n",
              "1       1   108590              1\n",
              "2       1     5000              0\n",
              "3       1     6692              1\n",
              "4       1   142590              1"
            ],
            "text/html": [
              "\n",
              "  <div id=\"df-d91d13c3-de4e-4490-8a39-68fb93f3d84b\">\n",
              "    <div class=\"colab-df-container\">\n",
              "      <div>\n",
              "<style scoped>\n",
              "    .dataframe tbody tr th:only-of-type {\n",
              "        vertical-align: middle;\n",
              "    }\n",
              "\n",
              "    .dataframe tbody tr th {\n",
              "        vertical-align: top;\n",
              "    }\n",
              "\n",
              "    .dataframe thead th {\n",
              "        text-align: right;\n",
              "    }\n",
              "</style>\n",
              "<table border=\"1\" class=\"dataframe\">\n",
              "  <thead>\n",
              "    <tr style=\"text-align: right;\">\n",
              "      <th></th>\n",
              "      <th>STATUS</th>\n",
              "      <th>ASK_AMT</th>\n",
              "      <th>IS_SUCCESSFUL</th>\n",
              "    </tr>\n",
              "  </thead>\n",
              "  <tbody>\n",
              "    <tr>\n",
              "      <th>0</th>\n",
              "      <td>1</td>\n",
              "      <td>5000</td>\n",
              "      <td>1</td>\n",
              "    </tr>\n",
              "    <tr>\n",
              "      <th>1</th>\n",
              "      <td>1</td>\n",
              "      <td>108590</td>\n",
              "      <td>1</td>\n",
              "    </tr>\n",
              "    <tr>\n",
              "      <th>2</th>\n",
              "      <td>1</td>\n",
              "      <td>5000</td>\n",
              "      <td>0</td>\n",
              "    </tr>\n",
              "    <tr>\n",
              "      <th>3</th>\n",
              "      <td>1</td>\n",
              "      <td>6692</td>\n",
              "      <td>1</td>\n",
              "    </tr>\n",
              "    <tr>\n",
              "      <th>4</th>\n",
              "      <td>1</td>\n",
              "      <td>142590</td>\n",
              "      <td>1</td>\n",
              "    </tr>\n",
              "  </tbody>\n",
              "</table>\n",
              "</div>\n",
              "      <button class=\"colab-df-convert\" onclick=\"convertToInteractive('df-d91d13c3-de4e-4490-8a39-68fb93f3d84b')\"\n",
              "              title=\"Convert this dataframe to an interactive table.\"\n",
              "              style=\"display:none;\">\n",
              "        \n",
              "  <svg xmlns=\"http://www.w3.org/2000/svg\" height=\"24px\"viewBox=\"0 0 24 24\"\n",
              "       width=\"24px\">\n",
              "    <path d=\"M0 0h24v24H0V0z\" fill=\"none\"/>\n",
              "    <path d=\"M18.56 5.44l.94 2.06.94-2.06 2.06-.94-2.06-.94-.94-2.06-.94 2.06-2.06.94zm-11 1L8.5 8.5l.94-2.06 2.06-.94-2.06-.94L8.5 2.5l-.94 2.06-2.06.94zm10 10l.94 2.06.94-2.06 2.06-.94-2.06-.94-.94-2.06-.94 2.06-2.06.94z\"/><path d=\"M17.41 7.96l-1.37-1.37c-.4-.4-.92-.59-1.43-.59-.52 0-1.04.2-1.43.59L10.3 9.45l-7.72 7.72c-.78.78-.78 2.05 0 2.83L4 21.41c.39.39.9.59 1.41.59.51 0 1.02-.2 1.41-.59l7.78-7.78 2.81-2.81c.8-.78.8-2.07 0-2.86zM5.41 20L4 18.59l7.72-7.72 1.47 1.35L5.41 20z\"/>\n",
              "  </svg>\n",
              "      </button>\n",
              "      \n",
              "  <style>\n",
              "    .colab-df-container {\n",
              "      display:flex;\n",
              "      flex-wrap:wrap;\n",
              "      gap: 12px;\n",
              "    }\n",
              "\n",
              "    .colab-df-convert {\n",
              "      background-color: #E8F0FE;\n",
              "      border: none;\n",
              "      border-radius: 50%;\n",
              "      cursor: pointer;\n",
              "      display: none;\n",
              "      fill: #1967D2;\n",
              "      height: 32px;\n",
              "      padding: 0 0 0 0;\n",
              "      width: 32px;\n",
              "    }\n",
              "\n",
              "    .colab-df-convert:hover {\n",
              "      background-color: #E2EBFA;\n",
              "      box-shadow: 0px 1px 2px rgba(60, 64, 67, 0.3), 0px 1px 3px 1px rgba(60, 64, 67, 0.15);\n",
              "      fill: #174EA6;\n",
              "    }\n",
              "\n",
              "    [theme=dark] .colab-df-convert {\n",
              "      background-color: #3B4455;\n",
              "      fill: #D2E3FC;\n",
              "    }\n",
              "\n",
              "    [theme=dark] .colab-df-convert:hover {\n",
              "      background-color: #434B5C;\n",
              "      box-shadow: 0px 1px 3px 1px rgba(0, 0, 0, 0.15);\n",
              "      filter: drop-shadow(0px 1px 2px rgba(0, 0, 0, 0.3));\n",
              "      fill: #FFFFFF;\n",
              "    }\n",
              "  </style>\n",
              "\n",
              "      <script>\n",
              "        const buttonEl =\n",
              "          document.querySelector('#df-d91d13c3-de4e-4490-8a39-68fb93f3d84b button.colab-df-convert');\n",
              "        buttonEl.style.display =\n",
              "          google.colab.kernel.accessAllowed ? 'block' : 'none';\n",
              "\n",
              "        async function convertToInteractive(key) {\n",
              "          const element = document.querySelector('#df-d91d13c3-de4e-4490-8a39-68fb93f3d84b');\n",
              "          const dataTable =\n",
              "            await google.colab.kernel.invokeFunction('convertToInteractive',\n",
              "                                                     [key], {});\n",
              "          if (!dataTable) return;\n",
              "\n",
              "          const docLinkHtml = 'Like what you see? Visit the ' +\n",
              "            '<a target=\"_blank\" href=https://colab.research.google.com/notebooks/data_table.ipynb>data table notebook</a>'\n",
              "            + ' to learn more about interactive tables.';\n",
              "          element.innerHTML = '';\n",
              "          dataTable['output_type'] = 'display_data';\n",
              "          await google.colab.output.renderOutput(dataTable, element);\n",
              "          const docLink = document.createElement('div');\n",
              "          docLink.innerHTML = docLinkHtml;\n",
              "          element.appendChild(docLink);\n",
              "        }\n",
              "      </script>\n",
              "    </div>\n",
              "  </div>\n",
              "  "
            ]
          },
          "metadata": {},
          "execution_count": 56
        }
      ]
    },
    {
      "cell_type": "markdown",
      "metadata": {
        "id": "A8Bd0AQTURsF"
      },
      "source": [
        "### Step 4: Add the original DataFrame’s numerical variables to the DataFrame containing the encoded variables.\n",
        "\n",
        "> **Note** To complete this step, you will employ the Pandas `concat()` function that was introduced earlier in this course."
      ]
    },
    {
      "cell_type": "code",
      "metadata": {
        "id": "r43_PQpFURsG",
        "colab": {
          "base_uri": "https://localhost:8080/",
          "height": 317
        },
        "outputId": "619200c3-0680-4b3d-a5e5-f59ae4f43f99"
      },
      "source": [
        "# Add the numerical variables from the original DataFrame to the one-hot encoding DataFrame\n",
        "# applicant_data_df.drop(['APPLICATION_TYPE', 'AFFILIATION', 'CLASSIFICATION', 'USE_CASE', 'ORGANIZATION', 'INCOME_AMT', 'SPECIAL_CONSIDERATIONS'])\n",
        "\n",
        "encoded_df = pd.concat(\n",
        "    [\n",
        "        numerical_variables_df,\n",
        "        encoded_df\n",
        "    ],\n",
        "    axis=1)\n",
        "\n",
        "# Review the Dataframe\n",
        "encoded_df.head()"
      ],
      "execution_count": 57,
      "outputs": [
        {
          "output_type": "execute_result",
          "data": {
            "text/plain": [
              "   STATUS  ASK_AMT  IS_SUCCESSFUL  APPLICATION_TYPE_T10  APPLICATION_TYPE_T12  \\\n",
              "0       1     5000              1                   1.0                   0.0   \n",
              "1       1   108590              1                   0.0                   0.0   \n",
              "2       1     5000              0                   0.0                   0.0   \n",
              "3       1     6692              1                   0.0                   0.0   \n",
              "4       1   142590              1                   0.0                   0.0   \n",
              "\n",
              "   APPLICATION_TYPE_T13  APPLICATION_TYPE_T14  APPLICATION_TYPE_T15  \\\n",
              "0                   0.0                   0.0                   0.0   \n",
              "1                   0.0                   0.0                   0.0   \n",
              "2                   0.0                   0.0                   0.0   \n",
              "3                   0.0                   0.0                   0.0   \n",
              "4                   0.0                   0.0                   0.0   \n",
              "\n",
              "   APPLICATION_TYPE_T17  APPLICATION_TYPE_T19  ...  INCOME_AMT_1-9999  \\\n",
              "0                   0.0                   0.0  ...                0.0   \n",
              "1                   0.0                   0.0  ...                1.0   \n",
              "2                   0.0                   0.0  ...                0.0   \n",
              "3                   0.0                   0.0  ...                0.0   \n",
              "4                   0.0                   0.0  ...                0.0   \n",
              "\n",
              "   INCOME_AMT_10000-24999  INCOME_AMT_100000-499999  INCOME_AMT_10M-50M  \\\n",
              "0                     0.0                       0.0                 0.0   \n",
              "1                     0.0                       0.0                 0.0   \n",
              "2                     0.0                       0.0                 0.0   \n",
              "3                     1.0                       0.0                 0.0   \n",
              "4                     0.0                       1.0                 0.0   \n",
              "\n",
              "   INCOME_AMT_1M-5M  INCOME_AMT_25000-99999  INCOME_AMT_50M+  \\\n",
              "0               0.0                     0.0              0.0   \n",
              "1               0.0                     0.0              0.0   \n",
              "2               0.0                     0.0              0.0   \n",
              "3               0.0                     0.0              0.0   \n",
              "4               0.0                     0.0              0.0   \n",
              "\n",
              "   INCOME_AMT_5M-10M  SPECIAL_CONSIDERATIONS_N  SPECIAL_CONSIDERATIONS_Y  \n",
              "0                0.0                       1.0                       0.0  \n",
              "1                0.0                       1.0                       0.0  \n",
              "2                0.0                       1.0                       0.0  \n",
              "3                0.0                       1.0                       0.0  \n",
              "4                0.0                       1.0                       0.0  \n",
              "\n",
              "[5 rows x 117 columns]"
            ],
            "text/html": [
              "\n",
              "  <div id=\"df-a676447a-bd29-4069-b27b-e62222979b29\">\n",
              "    <div class=\"colab-df-container\">\n",
              "      <div>\n",
              "<style scoped>\n",
              "    .dataframe tbody tr th:only-of-type {\n",
              "        vertical-align: middle;\n",
              "    }\n",
              "\n",
              "    .dataframe tbody tr th {\n",
              "        vertical-align: top;\n",
              "    }\n",
              "\n",
              "    .dataframe thead th {\n",
              "        text-align: right;\n",
              "    }\n",
              "</style>\n",
              "<table border=\"1\" class=\"dataframe\">\n",
              "  <thead>\n",
              "    <tr style=\"text-align: right;\">\n",
              "      <th></th>\n",
              "      <th>STATUS</th>\n",
              "      <th>ASK_AMT</th>\n",
              "      <th>IS_SUCCESSFUL</th>\n",
              "      <th>APPLICATION_TYPE_T10</th>\n",
              "      <th>APPLICATION_TYPE_T12</th>\n",
              "      <th>APPLICATION_TYPE_T13</th>\n",
              "      <th>APPLICATION_TYPE_T14</th>\n",
              "      <th>APPLICATION_TYPE_T15</th>\n",
              "      <th>APPLICATION_TYPE_T17</th>\n",
              "      <th>APPLICATION_TYPE_T19</th>\n",
              "      <th>...</th>\n",
              "      <th>INCOME_AMT_1-9999</th>\n",
              "      <th>INCOME_AMT_10000-24999</th>\n",
              "      <th>INCOME_AMT_100000-499999</th>\n",
              "      <th>INCOME_AMT_10M-50M</th>\n",
              "      <th>INCOME_AMT_1M-5M</th>\n",
              "      <th>INCOME_AMT_25000-99999</th>\n",
              "      <th>INCOME_AMT_50M+</th>\n",
              "      <th>INCOME_AMT_5M-10M</th>\n",
              "      <th>SPECIAL_CONSIDERATIONS_N</th>\n",
              "      <th>SPECIAL_CONSIDERATIONS_Y</th>\n",
              "    </tr>\n",
              "  </thead>\n",
              "  <tbody>\n",
              "    <tr>\n",
              "      <th>0</th>\n",
              "      <td>1</td>\n",
              "      <td>5000</td>\n",
              "      <td>1</td>\n",
              "      <td>1.0</td>\n",
              "      <td>0.0</td>\n",
              "      <td>0.0</td>\n",
              "      <td>0.0</td>\n",
              "      <td>0.0</td>\n",
              "      <td>0.0</td>\n",
              "      <td>0.0</td>\n",
              "      <td>...</td>\n",
              "      <td>0.0</td>\n",
              "      <td>0.0</td>\n",
              "      <td>0.0</td>\n",
              "      <td>0.0</td>\n",
              "      <td>0.0</td>\n",
              "      <td>0.0</td>\n",
              "      <td>0.0</td>\n",
              "      <td>0.0</td>\n",
              "      <td>1.0</td>\n",
              "      <td>0.0</td>\n",
              "    </tr>\n",
              "    <tr>\n",
              "      <th>1</th>\n",
              "      <td>1</td>\n",
              "      <td>108590</td>\n",
              "      <td>1</td>\n",
              "      <td>0.0</td>\n",
              "      <td>0.0</td>\n",
              "      <td>0.0</td>\n",
              "      <td>0.0</td>\n",
              "      <td>0.0</td>\n",
              "      <td>0.0</td>\n",
              "      <td>0.0</td>\n",
              "      <td>...</td>\n",
              "      <td>1.0</td>\n",
              "      <td>0.0</td>\n",
              "      <td>0.0</td>\n",
              "      <td>0.0</td>\n",
              "      <td>0.0</td>\n",
              "      <td>0.0</td>\n",
              "      <td>0.0</td>\n",
              "      <td>0.0</td>\n",
              "      <td>1.0</td>\n",
              "      <td>0.0</td>\n",
              "    </tr>\n",
              "    <tr>\n",
              "      <th>2</th>\n",
              "      <td>1</td>\n",
              "      <td>5000</td>\n",
              "      <td>0</td>\n",
              "      <td>0.0</td>\n",
              "      <td>0.0</td>\n",
              "      <td>0.0</td>\n",
              "      <td>0.0</td>\n",
              "      <td>0.0</td>\n",
              "      <td>0.0</td>\n",
              "      <td>0.0</td>\n",
              "      <td>...</td>\n",
              "      <td>0.0</td>\n",
              "      <td>0.0</td>\n",
              "      <td>0.0</td>\n",
              "      <td>0.0</td>\n",
              "      <td>0.0</td>\n",
              "      <td>0.0</td>\n",
              "      <td>0.0</td>\n",
              "      <td>0.0</td>\n",
              "      <td>1.0</td>\n",
              "      <td>0.0</td>\n",
              "    </tr>\n",
              "    <tr>\n",
              "      <th>3</th>\n",
              "      <td>1</td>\n",
              "      <td>6692</td>\n",
              "      <td>1</td>\n",
              "      <td>0.0</td>\n",
              "      <td>0.0</td>\n",
              "      <td>0.0</td>\n",
              "      <td>0.0</td>\n",
              "      <td>0.0</td>\n",
              "      <td>0.0</td>\n",
              "      <td>0.0</td>\n",
              "      <td>...</td>\n",
              "      <td>0.0</td>\n",
              "      <td>1.0</td>\n",
              "      <td>0.0</td>\n",
              "      <td>0.0</td>\n",
              "      <td>0.0</td>\n",
              "      <td>0.0</td>\n",
              "      <td>0.0</td>\n",
              "      <td>0.0</td>\n",
              "      <td>1.0</td>\n",
              "      <td>0.0</td>\n",
              "    </tr>\n",
              "    <tr>\n",
              "      <th>4</th>\n",
              "      <td>1</td>\n",
              "      <td>142590</td>\n",
              "      <td>1</td>\n",
              "      <td>0.0</td>\n",
              "      <td>0.0</td>\n",
              "      <td>0.0</td>\n",
              "      <td>0.0</td>\n",
              "      <td>0.0</td>\n",
              "      <td>0.0</td>\n",
              "      <td>0.0</td>\n",
              "      <td>...</td>\n",
              "      <td>0.0</td>\n",
              "      <td>0.0</td>\n",
              "      <td>1.0</td>\n",
              "      <td>0.0</td>\n",
              "      <td>0.0</td>\n",
              "      <td>0.0</td>\n",
              "      <td>0.0</td>\n",
              "      <td>0.0</td>\n",
              "      <td>1.0</td>\n",
              "      <td>0.0</td>\n",
              "    </tr>\n",
              "  </tbody>\n",
              "</table>\n",
              "<p>5 rows × 117 columns</p>\n",
              "</div>\n",
              "      <button class=\"colab-df-convert\" onclick=\"convertToInteractive('df-a676447a-bd29-4069-b27b-e62222979b29')\"\n",
              "              title=\"Convert this dataframe to an interactive table.\"\n",
              "              style=\"display:none;\">\n",
              "        \n",
              "  <svg xmlns=\"http://www.w3.org/2000/svg\" height=\"24px\"viewBox=\"0 0 24 24\"\n",
              "       width=\"24px\">\n",
              "    <path d=\"M0 0h24v24H0V0z\" fill=\"none\"/>\n",
              "    <path d=\"M18.56 5.44l.94 2.06.94-2.06 2.06-.94-2.06-.94-.94-2.06-.94 2.06-2.06.94zm-11 1L8.5 8.5l.94-2.06 2.06-.94-2.06-.94L8.5 2.5l-.94 2.06-2.06.94zm10 10l.94 2.06.94-2.06 2.06-.94-2.06-.94-.94-2.06-.94 2.06-2.06.94z\"/><path d=\"M17.41 7.96l-1.37-1.37c-.4-.4-.92-.59-1.43-.59-.52 0-1.04.2-1.43.59L10.3 9.45l-7.72 7.72c-.78.78-.78 2.05 0 2.83L4 21.41c.39.39.9.59 1.41.59.51 0 1.02-.2 1.41-.59l7.78-7.78 2.81-2.81c.8-.78.8-2.07 0-2.86zM5.41 20L4 18.59l7.72-7.72 1.47 1.35L5.41 20z\"/>\n",
              "  </svg>\n",
              "      </button>\n",
              "      \n",
              "  <style>\n",
              "    .colab-df-container {\n",
              "      display:flex;\n",
              "      flex-wrap:wrap;\n",
              "      gap: 12px;\n",
              "    }\n",
              "\n",
              "    .colab-df-convert {\n",
              "      background-color: #E8F0FE;\n",
              "      border: none;\n",
              "      border-radius: 50%;\n",
              "      cursor: pointer;\n",
              "      display: none;\n",
              "      fill: #1967D2;\n",
              "      height: 32px;\n",
              "      padding: 0 0 0 0;\n",
              "      width: 32px;\n",
              "    }\n",
              "\n",
              "    .colab-df-convert:hover {\n",
              "      background-color: #E2EBFA;\n",
              "      box-shadow: 0px 1px 2px rgba(60, 64, 67, 0.3), 0px 1px 3px 1px rgba(60, 64, 67, 0.15);\n",
              "      fill: #174EA6;\n",
              "    }\n",
              "\n",
              "    [theme=dark] .colab-df-convert {\n",
              "      background-color: #3B4455;\n",
              "      fill: #D2E3FC;\n",
              "    }\n",
              "\n",
              "    [theme=dark] .colab-df-convert:hover {\n",
              "      background-color: #434B5C;\n",
              "      box-shadow: 0px 1px 3px 1px rgba(0, 0, 0, 0.15);\n",
              "      filter: drop-shadow(0px 1px 2px rgba(0, 0, 0, 0.3));\n",
              "      fill: #FFFFFF;\n",
              "    }\n",
              "  </style>\n",
              "\n",
              "      <script>\n",
              "        const buttonEl =\n",
              "          document.querySelector('#df-a676447a-bd29-4069-b27b-e62222979b29 button.colab-df-convert');\n",
              "        buttonEl.style.display =\n",
              "          google.colab.kernel.accessAllowed ? 'block' : 'none';\n",
              "\n",
              "        async function convertToInteractive(key) {\n",
              "          const element = document.querySelector('#df-a676447a-bd29-4069-b27b-e62222979b29');\n",
              "          const dataTable =\n",
              "            await google.colab.kernel.invokeFunction('convertToInteractive',\n",
              "                                                     [key], {});\n",
              "          if (!dataTable) return;\n",
              "\n",
              "          const docLinkHtml = 'Like what you see? Visit the ' +\n",
              "            '<a target=\"_blank\" href=https://colab.research.google.com/notebooks/data_table.ipynb>data table notebook</a>'\n",
              "            + ' to learn more about interactive tables.';\n",
              "          element.innerHTML = '';\n",
              "          dataTable['output_type'] = 'display_data';\n",
              "          await google.colab.output.renderOutput(dataTable, element);\n",
              "          const docLink = document.createElement('div');\n",
              "          docLink.innerHTML = docLinkHtml;\n",
              "          element.appendChild(docLink);\n",
              "        }\n",
              "      </script>\n",
              "    </div>\n",
              "  </div>\n",
              "  "
            ]
          },
          "metadata": {},
          "execution_count": 57
        }
      ]
    },
    {
      "cell_type": "markdown",
      "metadata": {
        "id": "RJHzn3uyURsG"
      },
      "source": [
        "### Step 5: Using the preprocessed data, create the features (`X`) and target (`y`) datasets. The target dataset should be defined by the preprocessed DataFrame column “IS_SUCCESSFUL”. The remaining columns should define the features dataset.\n",
        "\n"
      ]
    },
    {
      "cell_type": "code",
      "metadata": {
        "id": "XpmWKy35URsG",
        "colab": {
          "base_uri": "https://localhost:8080/"
        },
        "outputId": "c713250e-70d8-473d-9ae4-d2cc2713ecd7"
      },
      "source": [
        "# Define the target set y using the IS_SUCCESSFUL column\n",
        "y = encoded_df['IS_SUCCESSFUL']\n",
        "\n",
        "# Display a sample of y\n",
        "y[:5]\n"
      ],
      "execution_count": 58,
      "outputs": [
        {
          "output_type": "execute_result",
          "data": {
            "text/plain": [
              "0    1\n",
              "1    1\n",
              "2    0\n",
              "3    1\n",
              "4    1\n",
              "Name: IS_SUCCESSFUL, dtype: int64"
            ]
          },
          "metadata": {},
          "execution_count": 58
        }
      ]
    },
    {
      "cell_type": "code",
      "metadata": {
        "id": "SzVEfRlaURsG",
        "colab": {
          "base_uri": "https://localhost:8080/",
          "height": 317
        },
        "outputId": "24081057-3a0d-4837-c204-e66eb9dd8206"
      },
      "source": [
        "# Define features set X by selecting all columns but IS_SUCCESSFUL\n",
        "X = encoded_df.drop(columns=[\"IS_SUCCESSFUL\"])\n",
        "\n",
        "# Review the features DataFrame\n",
        "X.head()\n"
      ],
      "execution_count": 59,
      "outputs": [
        {
          "output_type": "execute_result",
          "data": {
            "text/plain": [
              "   STATUS  ASK_AMT  APPLICATION_TYPE_T10  APPLICATION_TYPE_T12  \\\n",
              "0       1     5000                   1.0                   0.0   \n",
              "1       1   108590                   0.0                   0.0   \n",
              "2       1     5000                   0.0                   0.0   \n",
              "3       1     6692                   0.0                   0.0   \n",
              "4       1   142590                   0.0                   0.0   \n",
              "\n",
              "   APPLICATION_TYPE_T13  APPLICATION_TYPE_T14  APPLICATION_TYPE_T15  \\\n",
              "0                   0.0                   0.0                   0.0   \n",
              "1                   0.0                   0.0                   0.0   \n",
              "2                   0.0                   0.0                   0.0   \n",
              "3                   0.0                   0.0                   0.0   \n",
              "4                   0.0                   0.0                   0.0   \n",
              "\n",
              "   APPLICATION_TYPE_T17  APPLICATION_TYPE_T19  APPLICATION_TYPE_T2  ...  \\\n",
              "0                   0.0                   0.0                  0.0  ...   \n",
              "1                   0.0                   0.0                  0.0  ...   \n",
              "2                   0.0                   0.0                  0.0  ...   \n",
              "3                   0.0                   0.0                  0.0  ...   \n",
              "4                   0.0                   0.0                  0.0  ...   \n",
              "\n",
              "   INCOME_AMT_1-9999  INCOME_AMT_10000-24999  INCOME_AMT_100000-499999  \\\n",
              "0                0.0                     0.0                       0.0   \n",
              "1                1.0                     0.0                       0.0   \n",
              "2                0.0                     0.0                       0.0   \n",
              "3                0.0                     1.0                       0.0   \n",
              "4                0.0                     0.0                       1.0   \n",
              "\n",
              "   INCOME_AMT_10M-50M  INCOME_AMT_1M-5M  INCOME_AMT_25000-99999  \\\n",
              "0                 0.0               0.0                     0.0   \n",
              "1                 0.0               0.0                     0.0   \n",
              "2                 0.0               0.0                     0.0   \n",
              "3                 0.0               0.0                     0.0   \n",
              "4                 0.0               0.0                     0.0   \n",
              "\n",
              "   INCOME_AMT_50M+  INCOME_AMT_5M-10M  SPECIAL_CONSIDERATIONS_N  \\\n",
              "0              0.0                0.0                       1.0   \n",
              "1              0.0                0.0                       1.0   \n",
              "2              0.0                0.0                       1.0   \n",
              "3              0.0                0.0                       1.0   \n",
              "4              0.0                0.0                       1.0   \n",
              "\n",
              "   SPECIAL_CONSIDERATIONS_Y  \n",
              "0                       0.0  \n",
              "1                       0.0  \n",
              "2                       0.0  \n",
              "3                       0.0  \n",
              "4                       0.0  \n",
              "\n",
              "[5 rows x 116 columns]"
            ],
            "text/html": [
              "\n",
              "  <div id=\"df-b6ba92d4-b92a-4956-a665-26de6c025352\">\n",
              "    <div class=\"colab-df-container\">\n",
              "      <div>\n",
              "<style scoped>\n",
              "    .dataframe tbody tr th:only-of-type {\n",
              "        vertical-align: middle;\n",
              "    }\n",
              "\n",
              "    .dataframe tbody tr th {\n",
              "        vertical-align: top;\n",
              "    }\n",
              "\n",
              "    .dataframe thead th {\n",
              "        text-align: right;\n",
              "    }\n",
              "</style>\n",
              "<table border=\"1\" class=\"dataframe\">\n",
              "  <thead>\n",
              "    <tr style=\"text-align: right;\">\n",
              "      <th></th>\n",
              "      <th>STATUS</th>\n",
              "      <th>ASK_AMT</th>\n",
              "      <th>APPLICATION_TYPE_T10</th>\n",
              "      <th>APPLICATION_TYPE_T12</th>\n",
              "      <th>APPLICATION_TYPE_T13</th>\n",
              "      <th>APPLICATION_TYPE_T14</th>\n",
              "      <th>APPLICATION_TYPE_T15</th>\n",
              "      <th>APPLICATION_TYPE_T17</th>\n",
              "      <th>APPLICATION_TYPE_T19</th>\n",
              "      <th>APPLICATION_TYPE_T2</th>\n",
              "      <th>...</th>\n",
              "      <th>INCOME_AMT_1-9999</th>\n",
              "      <th>INCOME_AMT_10000-24999</th>\n",
              "      <th>INCOME_AMT_100000-499999</th>\n",
              "      <th>INCOME_AMT_10M-50M</th>\n",
              "      <th>INCOME_AMT_1M-5M</th>\n",
              "      <th>INCOME_AMT_25000-99999</th>\n",
              "      <th>INCOME_AMT_50M+</th>\n",
              "      <th>INCOME_AMT_5M-10M</th>\n",
              "      <th>SPECIAL_CONSIDERATIONS_N</th>\n",
              "      <th>SPECIAL_CONSIDERATIONS_Y</th>\n",
              "    </tr>\n",
              "  </thead>\n",
              "  <tbody>\n",
              "    <tr>\n",
              "      <th>0</th>\n",
              "      <td>1</td>\n",
              "      <td>5000</td>\n",
              "      <td>1.0</td>\n",
              "      <td>0.0</td>\n",
              "      <td>0.0</td>\n",
              "      <td>0.0</td>\n",
              "      <td>0.0</td>\n",
              "      <td>0.0</td>\n",
              "      <td>0.0</td>\n",
              "      <td>0.0</td>\n",
              "      <td>...</td>\n",
              "      <td>0.0</td>\n",
              "      <td>0.0</td>\n",
              "      <td>0.0</td>\n",
              "      <td>0.0</td>\n",
              "      <td>0.0</td>\n",
              "      <td>0.0</td>\n",
              "      <td>0.0</td>\n",
              "      <td>0.0</td>\n",
              "      <td>1.0</td>\n",
              "      <td>0.0</td>\n",
              "    </tr>\n",
              "    <tr>\n",
              "      <th>1</th>\n",
              "      <td>1</td>\n",
              "      <td>108590</td>\n",
              "      <td>0.0</td>\n",
              "      <td>0.0</td>\n",
              "      <td>0.0</td>\n",
              "      <td>0.0</td>\n",
              "      <td>0.0</td>\n",
              "      <td>0.0</td>\n",
              "      <td>0.0</td>\n",
              "      <td>0.0</td>\n",
              "      <td>...</td>\n",
              "      <td>1.0</td>\n",
              "      <td>0.0</td>\n",
              "      <td>0.0</td>\n",
              "      <td>0.0</td>\n",
              "      <td>0.0</td>\n",
              "      <td>0.0</td>\n",
              "      <td>0.0</td>\n",
              "      <td>0.0</td>\n",
              "      <td>1.0</td>\n",
              "      <td>0.0</td>\n",
              "    </tr>\n",
              "    <tr>\n",
              "      <th>2</th>\n",
              "      <td>1</td>\n",
              "      <td>5000</td>\n",
              "      <td>0.0</td>\n",
              "      <td>0.0</td>\n",
              "      <td>0.0</td>\n",
              "      <td>0.0</td>\n",
              "      <td>0.0</td>\n",
              "      <td>0.0</td>\n",
              "      <td>0.0</td>\n",
              "      <td>0.0</td>\n",
              "      <td>...</td>\n",
              "      <td>0.0</td>\n",
              "      <td>0.0</td>\n",
              "      <td>0.0</td>\n",
              "      <td>0.0</td>\n",
              "      <td>0.0</td>\n",
              "      <td>0.0</td>\n",
              "      <td>0.0</td>\n",
              "      <td>0.0</td>\n",
              "      <td>1.0</td>\n",
              "      <td>0.0</td>\n",
              "    </tr>\n",
              "    <tr>\n",
              "      <th>3</th>\n",
              "      <td>1</td>\n",
              "      <td>6692</td>\n",
              "      <td>0.0</td>\n",
              "      <td>0.0</td>\n",
              "      <td>0.0</td>\n",
              "      <td>0.0</td>\n",
              "      <td>0.0</td>\n",
              "      <td>0.0</td>\n",
              "      <td>0.0</td>\n",
              "      <td>0.0</td>\n",
              "      <td>...</td>\n",
              "      <td>0.0</td>\n",
              "      <td>1.0</td>\n",
              "      <td>0.0</td>\n",
              "      <td>0.0</td>\n",
              "      <td>0.0</td>\n",
              "      <td>0.0</td>\n",
              "      <td>0.0</td>\n",
              "      <td>0.0</td>\n",
              "      <td>1.0</td>\n",
              "      <td>0.0</td>\n",
              "    </tr>\n",
              "    <tr>\n",
              "      <th>4</th>\n",
              "      <td>1</td>\n",
              "      <td>142590</td>\n",
              "      <td>0.0</td>\n",
              "      <td>0.0</td>\n",
              "      <td>0.0</td>\n",
              "      <td>0.0</td>\n",
              "      <td>0.0</td>\n",
              "      <td>0.0</td>\n",
              "      <td>0.0</td>\n",
              "      <td>0.0</td>\n",
              "      <td>...</td>\n",
              "      <td>0.0</td>\n",
              "      <td>0.0</td>\n",
              "      <td>1.0</td>\n",
              "      <td>0.0</td>\n",
              "      <td>0.0</td>\n",
              "      <td>0.0</td>\n",
              "      <td>0.0</td>\n",
              "      <td>0.0</td>\n",
              "      <td>1.0</td>\n",
              "      <td>0.0</td>\n",
              "    </tr>\n",
              "  </tbody>\n",
              "</table>\n",
              "<p>5 rows × 116 columns</p>\n",
              "</div>\n",
              "      <button class=\"colab-df-convert\" onclick=\"convertToInteractive('df-b6ba92d4-b92a-4956-a665-26de6c025352')\"\n",
              "              title=\"Convert this dataframe to an interactive table.\"\n",
              "              style=\"display:none;\">\n",
              "        \n",
              "  <svg xmlns=\"http://www.w3.org/2000/svg\" height=\"24px\"viewBox=\"0 0 24 24\"\n",
              "       width=\"24px\">\n",
              "    <path d=\"M0 0h24v24H0V0z\" fill=\"none\"/>\n",
              "    <path d=\"M18.56 5.44l.94 2.06.94-2.06 2.06-.94-2.06-.94-.94-2.06-.94 2.06-2.06.94zm-11 1L8.5 8.5l.94-2.06 2.06-.94-2.06-.94L8.5 2.5l-.94 2.06-2.06.94zm10 10l.94 2.06.94-2.06 2.06-.94-2.06-.94-.94-2.06-.94 2.06-2.06.94z\"/><path d=\"M17.41 7.96l-1.37-1.37c-.4-.4-.92-.59-1.43-.59-.52 0-1.04.2-1.43.59L10.3 9.45l-7.72 7.72c-.78.78-.78 2.05 0 2.83L4 21.41c.39.39.9.59 1.41.59.51 0 1.02-.2 1.41-.59l7.78-7.78 2.81-2.81c.8-.78.8-2.07 0-2.86zM5.41 20L4 18.59l7.72-7.72 1.47 1.35L5.41 20z\"/>\n",
              "  </svg>\n",
              "      </button>\n",
              "      \n",
              "  <style>\n",
              "    .colab-df-container {\n",
              "      display:flex;\n",
              "      flex-wrap:wrap;\n",
              "      gap: 12px;\n",
              "    }\n",
              "\n",
              "    .colab-df-convert {\n",
              "      background-color: #E8F0FE;\n",
              "      border: none;\n",
              "      border-radius: 50%;\n",
              "      cursor: pointer;\n",
              "      display: none;\n",
              "      fill: #1967D2;\n",
              "      height: 32px;\n",
              "      padding: 0 0 0 0;\n",
              "      width: 32px;\n",
              "    }\n",
              "\n",
              "    .colab-df-convert:hover {\n",
              "      background-color: #E2EBFA;\n",
              "      box-shadow: 0px 1px 2px rgba(60, 64, 67, 0.3), 0px 1px 3px 1px rgba(60, 64, 67, 0.15);\n",
              "      fill: #174EA6;\n",
              "    }\n",
              "\n",
              "    [theme=dark] .colab-df-convert {\n",
              "      background-color: #3B4455;\n",
              "      fill: #D2E3FC;\n",
              "    }\n",
              "\n",
              "    [theme=dark] .colab-df-convert:hover {\n",
              "      background-color: #434B5C;\n",
              "      box-shadow: 0px 1px 3px 1px rgba(0, 0, 0, 0.15);\n",
              "      filter: drop-shadow(0px 1px 2px rgba(0, 0, 0, 0.3));\n",
              "      fill: #FFFFFF;\n",
              "    }\n",
              "  </style>\n",
              "\n",
              "      <script>\n",
              "        const buttonEl =\n",
              "          document.querySelector('#df-b6ba92d4-b92a-4956-a665-26de6c025352 button.colab-df-convert');\n",
              "        buttonEl.style.display =\n",
              "          google.colab.kernel.accessAllowed ? 'block' : 'none';\n",
              "\n",
              "        async function convertToInteractive(key) {\n",
              "          const element = document.querySelector('#df-b6ba92d4-b92a-4956-a665-26de6c025352');\n",
              "          const dataTable =\n",
              "            await google.colab.kernel.invokeFunction('convertToInteractive',\n",
              "                                                     [key], {});\n",
              "          if (!dataTable) return;\n",
              "\n",
              "          const docLinkHtml = 'Like what you see? Visit the ' +\n",
              "            '<a target=\"_blank\" href=https://colab.research.google.com/notebooks/data_table.ipynb>data table notebook</a>'\n",
              "            + ' to learn more about interactive tables.';\n",
              "          element.innerHTML = '';\n",
              "          dataTable['output_type'] = 'display_data';\n",
              "          await google.colab.output.renderOutput(dataTable, element);\n",
              "          const docLink = document.createElement('div');\n",
              "          docLink.innerHTML = docLinkHtml;\n",
              "          element.appendChild(docLink);\n",
              "        }\n",
              "      </script>\n",
              "    </div>\n",
              "  </div>\n",
              "  "
            ]
          },
          "metadata": {},
          "execution_count": 59
        }
      ]
    },
    {
      "cell_type": "markdown",
      "metadata": {
        "id": "Wgb0PFDKURsG"
      },
      "source": [
        "### Step 6: Split the features and target sets into training and testing datasets.\n"
      ]
    },
    {
      "cell_type": "code",
      "metadata": {
        "id": "M_vGfjV4URsG"
      },
      "source": [
        "# Split the preprocessed data into a training and testing dataset\n",
        "# Assign the function a random_state equal to 1\n",
        "X_train, X_test, y_train, y_test = train_test_split(X, y, random_state=1)\n"
      ],
      "execution_count": 60,
      "outputs": []
    },
    {
      "cell_type": "markdown",
      "metadata": {
        "id": "hDcNY8TGURsG"
      },
      "source": [
        "### Step 7: Use scikit-learn's `StandardScaler` to scale the features data."
      ]
    },
    {
      "cell_type": "code",
      "metadata": {
        "id": "MWOH8vl-URsG"
      },
      "source": [
        "# Create a StandardScaler instance\n",
        "scaler = StandardScaler()\n",
        "\n",
        "# Fit the scaler to the features training dataset\n",
        "X_scaler = scaler.fit(X_train)\n",
        "\n",
        "# Fit the scaler to the features training dataset\n",
        "X_train_scaled = scaler.transform(X_train)\n",
        "X_test_scaled = scaler.transform(X_test)\n"
      ],
      "execution_count": 61,
      "outputs": []
    },
    {
      "cell_type": "markdown",
      "metadata": {
        "id": "RvE_rJAAURsH"
      },
      "source": [
        "---\n",
        "\n",
        "## Compile and Evaluate a Binary Classification Model Using a Neural Network"
      ]
    },
    {
      "cell_type": "markdown",
      "metadata": {
        "id": "mLD8vtTqURsH"
      },
      "source": [
        "### Step 1: Create a deep neural network by assigning the number of input features, the number of layers, and the number of neurons on each layer using Tensorflow’s Keras.\n",
        "\n",
        "> **Hint** You can start with a two-layer deep neural network model that uses the `relu` activation function for both layers.\n"
      ]
    },
    {
      "cell_type": "code",
      "metadata": {
        "id": "K1Vgwz04URsH",
        "colab": {
          "base_uri": "https://localhost:8080/"
        },
        "outputId": "e9edd939-f77c-48ec-e1ed-16b7a95c667d"
      },
      "source": [
        "# Define the the number of inputs (features) to the model\n",
        "number_input_features = len(X_train.iloc[0])\n",
        "\n",
        "# Review the number of features\n",
        "number_input_features\n"
      ],
      "execution_count": 62,
      "outputs": [
        {
          "output_type": "execute_result",
          "data": {
            "text/plain": [
              "116"
            ]
          },
          "metadata": {},
          "execution_count": 62
        }
      ]
    },
    {
      "cell_type": "code",
      "metadata": {
        "id": "0mcgkl8SURsH"
      },
      "source": [
        "# Define the number of neurons in the output layer\n",
        "number_output_neurons = 1"
      ],
      "execution_count": 63,
      "outputs": []
    },
    {
      "cell_type": "code",
      "metadata": {
        "id": "i0Q3iY3wURsH",
        "colab": {
          "base_uri": "https://localhost:8080/"
        },
        "outputId": "a70d5d13-c2d2-4677-b539-bd9d69c07884"
      },
      "source": [
        "# Define the number of hidden nodes for the first hidden layer\n",
        "hidden_nodes_layer1 = (number_input_features + 1) // 2\n",
        "\n",
        "# Review the number hidden nodes in the first layer\n",
        "hidden_nodes_layer1\n"
      ],
      "execution_count": 64,
      "outputs": [
        {
          "output_type": "execute_result",
          "data": {
            "text/plain": [
              "58"
            ]
          },
          "metadata": {},
          "execution_count": 64
        }
      ]
    },
    {
      "cell_type": "code",
      "metadata": {
        "id": "Ux_lAsrvURsH",
        "colab": {
          "base_uri": "https://localhost:8080/"
        },
        "outputId": "12fbfac3-d273-4232-8daf-986124971c1e"
      },
      "source": [
        "# Define the number of hidden nodes for the second hidden layer\n",
        "hidden_nodes_layer2 = (hidden_nodes_layer1 + 1) // 2\n",
        "\n",
        "# Review the number hidden nodes in the second layer\n",
        "hidden_nodes_layer2\n"
      ],
      "execution_count": 65,
      "outputs": [
        {
          "output_type": "execute_result",
          "data": {
            "text/plain": [
              "29"
            ]
          },
          "metadata": {},
          "execution_count": 65
        }
      ]
    },
    {
      "cell_type": "code",
      "metadata": {
        "id": "1kq9QWhLURsH"
      },
      "source": [
        "# Create the Sequential model instance\n",
        "nn = Sequential()\n"
      ],
      "execution_count": 66,
      "outputs": []
    },
    {
      "cell_type": "code",
      "metadata": {
        "id": "NcVrWCD_URsI"
      },
      "source": [
        "# Add the first hidden layer\n",
        "nn.add(Dense(units=hidden_nodes_layer1, input_dim=number_input_features, activation=\"relu\"))\n"
      ],
      "execution_count": 67,
      "outputs": []
    },
    {
      "cell_type": "code",
      "metadata": {
        "id": "Ugxr6lisURsI"
      },
      "source": [
        "# Add the second hidden layer\n",
        "nn.add(Dense(units=hidden_nodes_layer2, activation=\"relu\"))\n"
      ],
      "execution_count": 68,
      "outputs": []
    },
    {
      "cell_type": "code",
      "metadata": {
        "id": "QxcGEyNoURsI"
      },
      "source": [
        "# Add the output layer to the model specifying the number of output neurons and activation function\n",
        "nn.add(Dense(units=1, activation=\"linear\"))\n"
      ],
      "execution_count": 69,
      "outputs": []
    },
    {
      "cell_type": "code",
      "metadata": {
        "id": "1L2ZVcXgURsI",
        "colab": {
          "base_uri": "https://localhost:8080/"
        },
        "outputId": "2e77396c-f911-4fb3-8416-e8e89a5419fe"
      },
      "source": [
        "# Display the Sequential model summary\n",
        "nn.summary()\n"
      ],
      "execution_count": 70,
      "outputs": [
        {
          "output_type": "stream",
          "name": "stdout",
          "text": [
            "Model: \"sequential\"\n",
            "_________________________________________________________________\n",
            " Layer (type)                Output Shape              Param #   \n",
            "=================================================================\n",
            " dense (Dense)               (None, 58)                6786      \n",
            "                                                                 \n",
            " dense_1 (Dense)             (None, 29)                1711      \n",
            "                                                                 \n",
            " dense_2 (Dense)             (None, 1)                 30        \n",
            "                                                                 \n",
            "=================================================================\n",
            "Total params: 8,527\n",
            "Trainable params: 8,527\n",
            "Non-trainable params: 0\n",
            "_________________________________________________________________\n"
          ]
        }
      ]
    },
    {
      "cell_type": "markdown",
      "metadata": {
        "id": "pzoKsvI3URsI"
      },
      "source": [
        "### Step 2: Compile and fit the model using the `binary_crossentropy` loss function, the `adam` optimizer, and the `accuracy` evaluation metric.\n"
      ]
    },
    {
      "cell_type": "code",
      "metadata": {
        "id": "PR8r_cL1URsI"
      },
      "source": [
        "# Compile the Sequential model\n",
        "nn.compile(loss=\"binary_crossentropy\", optimizer=\"adam\", metrics=[\"accuracy\"])\n"
      ],
      "execution_count": 71,
      "outputs": []
    },
    {
      "cell_type": "code",
      "metadata": {
        "id": "5_z-FPHJURsI",
        "colab": {
          "base_uri": "https://localhost:8080/"
        },
        "outputId": "4ea49fb2-065a-4816-dda6-7a4bb13de1eb"
      },
      "source": [
        "# Fit the model using 50 epochs and the training data\n",
        "fit_model = nn.fit(X_train_scaled, y_train, epochs=100)\n"
      ],
      "execution_count": 72,
      "outputs": [
        {
          "output_type": "stream",
          "name": "stdout",
          "text": [
            "Epoch 1/100\n",
            "804/804 [==============================] - 2s 1ms/step - loss: 1.1101 - accuracy: 0.6744\n",
            "Epoch 2/100\n",
            "804/804 [==============================] - 1s 1ms/step - loss: 0.8661 - accuracy: 0.7141\n",
            "Epoch 3/100\n",
            "804/804 [==============================] - 1s 1ms/step - loss: 0.8198 - accuracy: 0.7234\n",
            "Epoch 4/100\n",
            "804/804 [==============================] - 1s 1ms/step - loss: 0.9172 - accuracy: 0.7072\n",
            "Epoch 5/100\n",
            "804/804 [==============================] - 1s 1ms/step - loss: 0.7922 - accuracy: 0.7194\n",
            "Epoch 6/100\n",
            "804/804 [==============================] - 1s 2ms/step - loss: 0.8013 - accuracy: 0.7263\n",
            "Epoch 7/100\n",
            "804/804 [==============================] - 1s 1ms/step - loss: 0.8222 - accuracy: 0.7212\n",
            "Epoch 8/100\n",
            "804/804 [==============================] - 1s 1ms/step - loss: 0.8050 - accuracy: 0.7265\n",
            "Epoch 9/100\n",
            "804/804 [==============================] - 1s 1ms/step - loss: 0.8037 - accuracy: 0.7168\n",
            "Epoch 10/100\n",
            "804/804 [==============================] - 1s 1ms/step - loss: 0.8116 - accuracy: 0.7223\n",
            "Epoch 11/100\n",
            "804/804 [==============================] - 1s 1ms/step - loss: 0.7882 - accuracy: 0.7280\n",
            "Epoch 12/100\n",
            "804/804 [==============================] - 1s 1ms/step - loss: 0.7802 - accuracy: 0.7254\n",
            "Epoch 13/100\n",
            "804/804 [==============================] - 1s 1ms/step - loss: 0.7512 - accuracy: 0.7218\n",
            "Epoch 14/100\n",
            "804/804 [==============================] - 1s 1ms/step - loss: 0.7210 - accuracy: 0.7305\n",
            "Epoch 15/100\n",
            "804/804 [==============================] - 1s 1ms/step - loss: 0.7251 - accuracy: 0.7272\n",
            "Epoch 16/100\n",
            "804/804 [==============================] - 1s 1ms/step - loss: 0.7293 - accuracy: 0.7283\n",
            "Epoch 17/100\n",
            "804/804 [==============================] - 1s 1ms/step - loss: 0.7334 - accuracy: 0.7196\n",
            "Epoch 18/100\n",
            "804/804 [==============================] - 1s 1ms/step - loss: 0.7234 - accuracy: 0.7326\n",
            "Epoch 19/100\n",
            "804/804 [==============================] - 1s 2ms/step - loss: 0.7233 - accuracy: 0.7257\n",
            "Epoch 20/100\n",
            "804/804 [==============================] - 1s 1ms/step - loss: 0.7118 - accuracy: 0.7307\n",
            "Epoch 21/100\n",
            "804/804 [==============================] - 1s 1ms/step - loss: 0.7077 - accuracy: 0.7292\n",
            "Epoch 22/100\n",
            "804/804 [==============================] - 1s 1ms/step - loss: 0.7092 - accuracy: 0.7309\n",
            "Epoch 23/100\n",
            "804/804 [==============================] - 1s 1ms/step - loss: 0.6887 - accuracy: 0.7329\n",
            "Epoch 24/100\n",
            "804/804 [==============================] - 1s 1ms/step - loss: 0.7081 - accuracy: 0.7278\n",
            "Epoch 25/100\n",
            "804/804 [==============================] - 1s 2ms/step - loss: 0.7136 - accuracy: 0.7327\n",
            "Epoch 26/100\n",
            "804/804 [==============================] - 1s 2ms/step - loss: 0.7060 - accuracy: 0.7294\n",
            "Epoch 27/100\n",
            "804/804 [==============================] - 1s 1ms/step - loss: 0.6594 - accuracy: 0.7312\n",
            "Epoch 28/100\n",
            "804/804 [==============================] - 1s 1ms/step - loss: 0.6419 - accuracy: 0.7271\n",
            "Epoch 29/100\n",
            "804/804 [==============================] - 1s 1ms/step - loss: 0.6334 - accuracy: 0.7326\n",
            "Epoch 30/100\n",
            "804/804 [==============================] - 1s 1ms/step - loss: 0.6189 - accuracy: 0.7332\n",
            "Epoch 31/100\n",
            "804/804 [==============================] - 1s 1ms/step - loss: 0.6202 - accuracy: 0.7339\n",
            "Epoch 32/100\n",
            "804/804 [==============================] - 1s 1ms/step - loss: 0.6219 - accuracy: 0.7305\n",
            "Epoch 33/100\n",
            "804/804 [==============================] - 1s 1ms/step - loss: 0.6006 - accuracy: 0.7340\n",
            "Epoch 34/100\n",
            "804/804 [==============================] - 1s 1ms/step - loss: 0.6072 - accuracy: 0.7254\n",
            "Epoch 35/100\n",
            "804/804 [==============================] - 1s 1ms/step - loss: 0.6087 - accuracy: 0.7327\n",
            "Epoch 36/100\n",
            "804/804 [==============================] - 1s 1ms/step - loss: 0.6008 - accuracy: 0.7364\n",
            "Epoch 37/100\n",
            "804/804 [==============================] - 1s 1ms/step - loss: 0.5828 - accuracy: 0.7284\n",
            "Epoch 38/100\n",
            "804/804 [==============================] - 1s 1ms/step - loss: 0.5749 - accuracy: 0.7332\n",
            "Epoch 39/100\n",
            "804/804 [==============================] - 1s 1ms/step - loss: 0.5703 - accuracy: 0.7358\n",
            "Epoch 40/100\n",
            "804/804 [==============================] - 1s 1ms/step - loss: 0.5733 - accuracy: 0.7372\n",
            "Epoch 41/100\n",
            "804/804 [==============================] - 1s 1ms/step - loss: 0.5738 - accuracy: 0.7360\n",
            "Epoch 42/100\n",
            "804/804 [==============================] - 1s 1ms/step - loss: 0.5858 - accuracy: 0.7349\n",
            "Epoch 43/100\n",
            "804/804 [==============================] - 1s 1ms/step - loss: 0.5860 - accuracy: 0.7282\n",
            "Epoch 44/100\n",
            "804/804 [==============================] - 1s 1ms/step - loss: 0.5833 - accuracy: 0.7345\n",
            "Epoch 45/100\n",
            "804/804 [==============================] - 1s 1ms/step - loss: 0.5775 - accuracy: 0.7345\n",
            "Epoch 46/100\n",
            "804/804 [==============================] - 1s 1ms/step - loss: 0.5709 - accuracy: 0.7340\n",
            "Epoch 47/100\n",
            "804/804 [==============================] - 1s 1ms/step - loss: 0.5781 - accuracy: 0.7383\n",
            "Epoch 48/100\n",
            "804/804 [==============================] - 1s 1ms/step - loss: 0.5740 - accuracy: 0.7389\n",
            "Epoch 49/100\n",
            "804/804 [==============================] - 1s 1ms/step - loss: 0.5720 - accuracy: 0.7380\n",
            "Epoch 50/100\n",
            "804/804 [==============================] - 1s 1ms/step - loss: 0.5750 - accuracy: 0.7380\n",
            "Epoch 51/100\n",
            "804/804 [==============================] - 1s 1ms/step - loss: 0.5811 - accuracy: 0.7380\n",
            "Epoch 52/100\n",
            "804/804 [==============================] - 1s 1ms/step - loss: 0.5976 - accuracy: 0.7325\n",
            "Epoch 53/100\n",
            "804/804 [==============================] - 1s 1ms/step - loss: 0.5941 - accuracy: 0.7370\n",
            "Epoch 54/100\n",
            "804/804 [==============================] - 1s 1ms/step - loss: 0.5890 - accuracy: 0.7368\n",
            "Epoch 55/100\n",
            "804/804 [==============================] - 1s 1ms/step - loss: 0.5992 - accuracy: 0.7355\n",
            "Epoch 56/100\n",
            "804/804 [==============================] - 1s 1ms/step - loss: 0.6045 - accuracy: 0.7348\n",
            "Epoch 57/100\n",
            "804/804 [==============================] - 1s 1ms/step - loss: 0.6112 - accuracy: 0.7371\n",
            "Epoch 58/100\n",
            "804/804 [==============================] - 1s 1ms/step - loss: 0.6027 - accuracy: 0.7369\n",
            "Epoch 59/100\n",
            "804/804 [==============================] - 1s 2ms/step - loss: 0.6090 - accuracy: 0.7350\n",
            "Epoch 60/100\n",
            "804/804 [==============================] - 1s 1ms/step - loss: 0.6032 - accuracy: 0.7355\n",
            "Epoch 61/100\n",
            "804/804 [==============================] - 1s 1ms/step - loss: 0.6053 - accuracy: 0.7368\n",
            "Epoch 62/100\n",
            "804/804 [==============================] - 1s 1ms/step - loss: 0.6125 - accuracy: 0.7370\n",
            "Epoch 63/100\n",
            "804/804 [==============================] - 1s 1ms/step - loss: 0.6086 - accuracy: 0.7353\n",
            "Epoch 64/100\n",
            "804/804 [==============================] - 1s 1ms/step - loss: 0.6242 - accuracy: 0.7355\n",
            "Epoch 65/100\n",
            "804/804 [==============================] - 1s 1ms/step - loss: 0.6087 - accuracy: 0.7369\n",
            "Epoch 66/100\n",
            "804/804 [==============================] - 1s 1ms/step - loss: 0.6164 - accuracy: 0.7341\n",
            "Epoch 67/100\n",
            "804/804 [==============================] - 1s 1ms/step - loss: 0.6125 - accuracy: 0.7340\n",
            "Epoch 68/100\n",
            "804/804 [==============================] - 1s 1ms/step - loss: 0.6079 - accuracy: 0.7378\n",
            "Epoch 69/100\n",
            "804/804 [==============================] - 1s 1ms/step - loss: 0.6060 - accuracy: 0.7361\n",
            "Epoch 70/100\n",
            "804/804 [==============================] - 1s 1ms/step - loss: 0.6280 - accuracy: 0.7308\n",
            "Epoch 71/100\n",
            "804/804 [==============================] - 1s 1ms/step - loss: 0.6173 - accuracy: 0.7374\n",
            "Epoch 72/100\n",
            "804/804 [==============================] - 1s 2ms/step - loss: 0.6000 - accuracy: 0.7371\n",
            "Epoch 73/100\n",
            "804/804 [==============================] - 1s 1ms/step - loss: 0.6217 - accuracy: 0.7332\n",
            "Epoch 74/100\n",
            "804/804 [==============================] - 1s 1ms/step - loss: 0.6708 - accuracy: 0.6773\n",
            "Epoch 75/100\n",
            "804/804 [==============================] - 1s 1ms/step - loss: 0.6264 - accuracy: 0.7357\n",
            "Epoch 76/100\n",
            "804/804 [==============================] - 1s 1ms/step - loss: 0.6162 - accuracy: 0.7365\n",
            "Epoch 77/100\n",
            "804/804 [==============================] - 1s 1ms/step - loss: 0.6213 - accuracy: 0.7380\n",
            "Epoch 78/100\n",
            "804/804 [==============================] - 1s 1ms/step - loss: 0.6065 - accuracy: 0.7373\n",
            "Epoch 79/100\n",
            "804/804 [==============================] - 1s 1ms/step - loss: 0.6153 - accuracy: 0.7382\n",
            "Epoch 80/100\n",
            "804/804 [==============================] - 1s 1ms/step - loss: 0.5979 - accuracy: 0.7367\n",
            "Epoch 81/100\n",
            "804/804 [==============================] - 1s 1ms/step - loss: 0.6017 - accuracy: 0.7348\n",
            "Epoch 82/100\n",
            "804/804 [==============================] - 1s 1ms/step - loss: 0.6021 - accuracy: 0.7381\n",
            "Epoch 83/100\n",
            "804/804 [==============================] - 1s 1ms/step - loss: 0.6029 - accuracy: 0.7360\n",
            "Epoch 84/100\n",
            "804/804 [==============================] - 1s 1ms/step - loss: 0.6172 - accuracy: 0.7332\n",
            "Epoch 85/100\n",
            "804/804 [==============================] - 1s 1ms/step - loss: 0.6042 - accuracy: 0.7364\n",
            "Epoch 86/100\n",
            "804/804 [==============================] - 1s 1ms/step - loss: 0.6021 - accuracy: 0.7364\n",
            "Epoch 87/100\n",
            "804/804 [==============================] - 1s 1ms/step - loss: 0.6063 - accuracy: 0.7388\n",
            "Epoch 88/100\n",
            "804/804 [==============================] - 1s 1ms/step - loss: 0.6092 - accuracy: 0.7376\n",
            "Epoch 89/100\n",
            "804/804 [==============================] - 1s 1ms/step - loss: 0.6126 - accuracy: 0.7374\n",
            "Epoch 90/100\n",
            "804/804 [==============================] - 1s 1ms/step - loss: 0.6081 - accuracy: 0.7367\n",
            "Epoch 91/100\n",
            "804/804 [==============================] - 1s 1ms/step - loss: 0.6087 - accuracy: 0.7343\n",
            "Epoch 92/100\n",
            "804/804 [==============================] - 1s 1ms/step - loss: 0.6084 - accuracy: 0.7353\n",
            "Epoch 93/100\n",
            "804/804 [==============================] - 1s 1ms/step - loss: 0.6104 - accuracy: 0.7367\n",
            "Epoch 94/100\n",
            "804/804 [==============================] - 1s 1ms/step - loss: 0.6096 - accuracy: 0.7378\n",
            "Epoch 95/100\n",
            "804/804 [==============================] - 1s 1ms/step - loss: 0.6079 - accuracy: 0.7379\n",
            "Epoch 96/100\n",
            "804/804 [==============================] - 1s 1ms/step - loss: 0.6061 - accuracy: 0.7384\n",
            "Epoch 97/100\n",
            "804/804 [==============================] - 1s 1ms/step - loss: 0.6022 - accuracy: 0.7384\n",
            "Epoch 98/100\n",
            "804/804 [==============================] - 1s 1ms/step - loss: 0.6017 - accuracy: 0.7376\n",
            "Epoch 99/100\n",
            "804/804 [==============================] - 1s 1ms/step - loss: 0.6116 - accuracy: 0.7384\n",
            "Epoch 100/100\n",
            "804/804 [==============================] - 1s 1ms/step - loss: 0.6052 - accuracy: 0.7383\n"
          ]
        }
      ]
    },
    {
      "cell_type": "markdown",
      "metadata": {
        "id": "JIbFSQ-FURsI"
      },
      "source": [
        "### Step 3: Evaluate the model using the test data to determine the model’s loss and accuracy.\n"
      ]
    },
    {
      "cell_type": "code",
      "metadata": {
        "id": "rWaHGdGrURsI",
        "colab": {
          "base_uri": "https://localhost:8080/"
        },
        "outputId": "ea1bd456-d375-4347-b335-f7940f6036e1"
      },
      "source": [
        "# Evaluate the model loss and accuracy metrics using the evaluate method and the test data\n",
        "model_loss, model_accuracy = nn.evaluate(X_test_scaled,y_test,verbose=2)\n",
        "\n",
        "# Display the model loss and accuracy results\n",
        "print(f\"Loss: {model_loss}, Accuracy: {model_accuracy}\")"
      ],
      "execution_count": 73,
      "outputs": [
        {
          "output_type": "stream",
          "name": "stdout",
          "text": [
            "268/268 - 0s - loss: 0.6411 - accuracy: 0.7298 - 324ms/epoch - 1ms/step\n",
            "Loss: 0.6411337852478027, Accuracy: 0.7297959327697754\n"
          ]
        }
      ]
    },
    {
      "cell_type": "markdown",
      "metadata": {
        "id": "ppT2iIP5URsJ"
      },
      "source": [
        "### Step 4: Save and export your model to an HDF5 file, and name the file `AlphabetSoup.h5`.\n"
      ]
    },
    {
      "cell_type": "code",
      "metadata": {
        "id": "iOuA28RQURsJ"
      },
      "source": [
        "# Set the model's file path\n",
        "file_path = \"AlphabetSoup.h5\"\n",
        "\n",
        "# Export your model to a HDF5 file\n",
        "nn.save(file_path)\n"
      ],
      "execution_count": 74,
      "outputs": []
    },
    {
      "cell_type": "markdown",
      "metadata": {
        "id": "xlN5E4WfURsJ"
      },
      "source": [
        "---\n",
        "\n",
        "## Optimize the neural network model\n"
      ]
    },
    {
      "cell_type": "markdown",
      "metadata": {
        "id": "0q7pN2XKURsJ"
      },
      "source": [
        "### Step 1: Define at least three new deep neural network models (resulting in the original plus 3 optimization attempts). With each, try to improve on your first model’s predictive accuracy.\n",
        "\n",
        "> **Rewind** Recall that perfect accuracy has a value of 1, so accuracy improves as its value moves closer to 1. To optimize your model for a predictive accuracy as close to 1 as possible, you can use any or all of the following techniques:\n",
        ">\n",
        "> * Adjust the input data by dropping different features columns to ensure that no variables or outliers confuse the model.\n",
        ">\n",
        "> * Add more neurons (nodes) to a hidden layer.\n",
        ">\n",
        "> * Add more hidden layers.\n",
        ">\n",
        "> * Use different activation functions for the hidden layers.\n",
        ">\n",
        "> * Add to or reduce the number of epochs in the training regimen.\n"
      ]
    },
    {
      "cell_type": "markdown",
      "metadata": {
        "id": "slhZ-iS1URsJ"
      },
      "source": [
        "### Alternative Model 1"
      ]
    },
    {
      "cell_type": "code",
      "metadata": {
        "id": "zqbrMOgCURsJ",
        "colab": {
          "base_uri": "https://localhost:8080/"
        },
        "outputId": "b4bd4262-4fa5-47b1-a374-9c986801443d"
      },
      "source": [
        "# Define the the number of inputs (features) to the model\n",
        "number_input_features = len(X_train.iloc[0])\n",
        "\n",
        "# Review the number of features\n",
        "number_input_features"
      ],
      "execution_count": 75,
      "outputs": [
        {
          "output_type": "execute_result",
          "data": {
            "text/plain": [
              "116"
            ]
          },
          "metadata": {},
          "execution_count": 75
        }
      ]
    },
    {
      "cell_type": "code",
      "metadata": {
        "id": "U3rrh76sURsJ"
      },
      "source": [
        "# Define the number of neurons in the output layer\n",
        "number_output_neurons_A1 = 1"
      ],
      "execution_count": 76,
      "outputs": []
    },
    {
      "cell_type": "code",
      "metadata": {
        "id": "lMOrWGBKURsJ",
        "colab": {
          "base_uri": "https://localhost:8080/"
        },
        "outputId": "306e8d39-0ad9-483c-d588-82a9cc333486"
      },
      "source": [
        "# Define the number of hidden nodes for the first hidden layer\n",
        "hidden_nodes_layer1_A1 = 80\n",
        "# Review the number of hidden nodes in the first layer\n",
        "hidden_nodes_layer1_A1"
      ],
      "execution_count": 77,
      "outputs": [
        {
          "output_type": "execute_result",
          "data": {
            "text/plain": [
              "80"
            ]
          },
          "metadata": {},
          "execution_count": 77
        }
      ]
    },
    {
      "cell_type": "code",
      "source": [
        "# Define the number of hidden nodes for the second hidden layer\n",
        "hidden_nodes_layer2_A1 = 40\n",
        "# Review the number of hidden nodes in the second layer\n",
        "hidden_nodes_layer2_A1"
      ],
      "metadata": {
        "colab": {
          "base_uri": "https://localhost:8080/"
        },
        "id": "_rXrRTNW1moB",
        "outputId": "610a0a60-3803-4c44-e014-cafc569d2755"
      },
      "execution_count": 78,
      "outputs": [
        {
          "output_type": "execute_result",
          "data": {
            "text/plain": [
              "40"
            ]
          },
          "metadata": {},
          "execution_count": 78
        }
      ]
    },
    {
      "cell_type": "code",
      "source": [
        "# Define the number of hidden nodes for the third hidden layer\n",
        "hidden_nodes_layer3_A1 = 20\n",
        "# Review the number of hidden nodes in the third layer\n",
        "hidden_nodes_layer3_A1"
      ],
      "metadata": {
        "colab": {
          "base_uri": "https://localhost:8080/"
        },
        "id": "j7Z8A6ND1t7W",
        "outputId": "8318c0ff-e829-4c35-a485-9271df65444f"
      },
      "execution_count": 79,
      "outputs": [
        {
          "output_type": "execute_result",
          "data": {
            "text/plain": [
              "20"
            ]
          },
          "metadata": {},
          "execution_count": 79
        }
      ]
    },
    {
      "cell_type": "code",
      "metadata": {
        "id": "efNsx7TfURsK"
      },
      "source": [
        "# Create the Sequential model instance\n",
        "nn_A1 = Sequential()"
      ],
      "execution_count": 80,
      "outputs": []
    },
    {
      "cell_type": "code",
      "metadata": {
        "id": "0uMhdXQWURsK",
        "colab": {
          "base_uri": "https://localhost:8080/"
        },
        "outputId": "f5336734-e368-4445-e510-f63a549f7b89"
      },
      "source": [
        "# First hidden layer\n",
        "nn_A1.add(Dense(units=hidden_nodes_layer1_A1, input_dim=number_input_features, activation=\"relu\"))\n",
        "\n",
        "# Second hidden layer\n",
        "nn_A1.add(Dense(units=hidden_nodes_layer2_A1, activation=\"relu\"))\n",
        "\n",
        "# Third hidden layer\n",
        "nn_A1.add(Dense(units=hidden_nodes_layer3_A1, activation=\"relu\"))\n",
        "\n",
        "\n",
        "\n",
        "# Output layer\n",
        "nn_A1.add(Dense(units=1, activation=\"sigmoid\"))\n",
        "\n",
        "\n",
        "# Check the structure of the model\n",
        "nn_A1"
      ],
      "execution_count": 81,
      "outputs": [
        {
          "output_type": "execute_result",
          "data": {
            "text/plain": [
              "<keras.engine.sequential.Sequential at 0x7f0f69c6a6b0>"
            ]
          },
          "metadata": {},
          "execution_count": 81
        }
      ]
    },
    {
      "cell_type": "code",
      "metadata": {
        "id": "2gDpRhG7URsK"
      },
      "source": [
        "# Compile the Sequential model\n",
        "nn_A1.compile(loss=\"binary_crossentropy\", optimizer=\"adam\", metrics=[\"accuracy\"])\n"
      ],
      "execution_count": 82,
      "outputs": []
    },
    {
      "cell_type": "code",
      "metadata": {
        "id": "zE4UD4NyURsK",
        "colab": {
          "base_uri": "https://localhost:8080/"
        },
        "outputId": "8cbc4543-a31e-4e9b-844c-ec52b6ca2446"
      },
      "source": [
        "# Fit the model using 50 epochs and the training data\n",
        "fit_model_A1 = nn_A1.fit(X_train_scaled, y_train, epochs=50)\n"
      ],
      "execution_count": 83,
      "outputs": [
        {
          "output_type": "stream",
          "name": "stdout",
          "text": [
            "Epoch 1/50\n",
            "804/804 [==============================] - 2s 1ms/step - loss: 0.5705 - accuracy: 0.7187\n",
            "Epoch 2/50\n",
            "804/804 [==============================] - 1s 1ms/step - loss: 0.5503 - accuracy: 0.7293\n",
            "Epoch 3/50\n",
            "804/804 [==============================] - 1s 1ms/step - loss: 0.5472 - accuracy: 0.7317\n",
            "Epoch 4/50\n",
            "804/804 [==============================] - 1s 1ms/step - loss: 0.5456 - accuracy: 0.7335\n",
            "Epoch 5/50\n",
            "804/804 [==============================] - 1s 1ms/step - loss: 0.5443 - accuracy: 0.7333\n",
            "Epoch 6/50\n",
            "804/804 [==============================] - 1s 1ms/step - loss: 0.5439 - accuracy: 0.7346\n",
            "Epoch 7/50\n",
            "804/804 [==============================] - 1s 1ms/step - loss: 0.5429 - accuracy: 0.7345\n",
            "Epoch 8/50\n",
            "804/804 [==============================] - 1s 1ms/step - loss: 0.5420 - accuracy: 0.7356\n",
            "Epoch 9/50\n",
            "804/804 [==============================] - 1s 1ms/step - loss: 0.5414 - accuracy: 0.7362\n",
            "Epoch 10/50\n",
            "804/804 [==============================] - 1s 2ms/step - loss: 0.5406 - accuracy: 0.7369\n",
            "Epoch 11/50\n",
            "804/804 [==============================] - 1s 1ms/step - loss: 0.5400 - accuracy: 0.7369\n",
            "Epoch 12/50\n",
            "804/804 [==============================] - 1s 1ms/step - loss: 0.5403 - accuracy: 0.7378\n",
            "Epoch 13/50\n",
            "804/804 [==============================] - 1s 1ms/step - loss: 0.5393 - accuracy: 0.7373\n",
            "Epoch 14/50\n",
            "804/804 [==============================] - 1s 1ms/step - loss: 0.5378 - accuracy: 0.7373\n",
            "Epoch 15/50\n",
            "804/804 [==============================] - 1s 1ms/step - loss: 0.5380 - accuracy: 0.7383\n",
            "Epoch 16/50\n",
            "804/804 [==============================] - 1s 1ms/step - loss: 0.5380 - accuracy: 0.7386\n",
            "Epoch 17/50\n",
            "804/804 [==============================] - 1s 1ms/step - loss: 0.5372 - accuracy: 0.7394\n",
            "Epoch 18/50\n",
            "804/804 [==============================] - 1s 1ms/step - loss: 0.5375 - accuracy: 0.7389\n",
            "Epoch 19/50\n",
            "804/804 [==============================] - 1s 1ms/step - loss: 0.5370 - accuracy: 0.7390\n",
            "Epoch 20/50\n",
            "804/804 [==============================] - 1s 1ms/step - loss: 0.5364 - accuracy: 0.7391\n",
            "Epoch 21/50\n",
            "804/804 [==============================] - 1s 1ms/step - loss: 0.5366 - accuracy: 0.7399\n",
            "Epoch 22/50\n",
            "804/804 [==============================] - 1s 2ms/step - loss: 0.5359 - accuracy: 0.7393\n",
            "Epoch 23/50\n",
            "804/804 [==============================] - 1s 2ms/step - loss: 0.5360 - accuracy: 0.7392\n",
            "Epoch 24/50\n",
            "804/804 [==============================] - 1s 1ms/step - loss: 0.5352 - accuracy: 0.7402\n",
            "Epoch 25/50\n",
            "804/804 [==============================] - 1s 1ms/step - loss: 0.5354 - accuracy: 0.7399\n",
            "Epoch 26/50\n",
            "804/804 [==============================] - 1s 1ms/step - loss: 0.5350 - accuracy: 0.7391\n",
            "Epoch 27/50\n",
            "804/804 [==============================] - 1s 1ms/step - loss: 0.5346 - accuracy: 0.7398\n",
            "Epoch 28/50\n",
            "804/804 [==============================] - 1s 1ms/step - loss: 0.5347 - accuracy: 0.7402\n",
            "Epoch 29/50\n",
            "804/804 [==============================] - 1s 1ms/step - loss: 0.5344 - accuracy: 0.7404\n",
            "Epoch 30/50\n",
            "804/804 [==============================] - 1s 1ms/step - loss: 0.5343 - accuracy: 0.7410\n",
            "Epoch 31/50\n",
            "804/804 [==============================] - 1s 1ms/step - loss: 0.5336 - accuracy: 0.7406\n",
            "Epoch 32/50\n",
            "804/804 [==============================] - 1s 1ms/step - loss: 0.5333 - accuracy: 0.7401\n",
            "Epoch 33/50\n",
            "804/804 [==============================] - 1s 1ms/step - loss: 0.5327 - accuracy: 0.7395\n",
            "Epoch 34/50\n",
            "804/804 [==============================] - 1s 1ms/step - loss: 0.5335 - accuracy: 0.7396\n",
            "Epoch 35/50\n",
            "804/804 [==============================] - 1s 2ms/step - loss: 0.5331 - accuracy: 0.7406\n",
            "Epoch 36/50\n",
            "804/804 [==============================] - 1s 2ms/step - loss: 0.5329 - accuracy: 0.7401\n",
            "Epoch 37/50\n",
            "804/804 [==============================] - 1s 1ms/step - loss: 0.5326 - accuracy: 0.7410\n",
            "Epoch 38/50\n",
            "804/804 [==============================] - 1s 1ms/step - loss: 0.5328 - accuracy: 0.7414\n",
            "Epoch 39/50\n",
            "804/804 [==============================] - 1s 1ms/step - loss: 0.5321 - accuracy: 0.7409\n",
            "Epoch 40/50\n",
            "804/804 [==============================] - 1s 1ms/step - loss: 0.5325 - accuracy: 0.7408\n",
            "Epoch 41/50\n",
            "804/804 [==============================] - 1s 1ms/step - loss: 0.5323 - accuracy: 0.7416\n",
            "Epoch 42/50\n",
            "804/804 [==============================] - 1s 1ms/step - loss: 0.5318 - accuracy: 0.7415\n",
            "Epoch 43/50\n",
            "804/804 [==============================] - 1s 1ms/step - loss: 0.5320 - accuracy: 0.7409\n",
            "Epoch 44/50\n",
            "804/804 [==============================] - 1s 1ms/step - loss: 0.5314 - accuracy: 0.7411\n",
            "Epoch 45/50\n",
            "804/804 [==============================] - 1s 1ms/step - loss: 0.5317 - accuracy: 0.7412\n",
            "Epoch 46/50\n",
            "804/804 [==============================] - 1s 1ms/step - loss: 0.5311 - accuracy: 0.7416\n",
            "Epoch 47/50\n",
            "804/804 [==============================] - 1s 2ms/step - loss: 0.5311 - accuracy: 0.7414\n",
            "Epoch 48/50\n",
            "804/804 [==============================] - 1s 2ms/step - loss: 0.5312 - accuracy: 0.7407\n",
            "Epoch 49/50\n",
            "804/804 [==============================] - 1s 1ms/step - loss: 0.5305 - accuracy: 0.7419\n",
            "Epoch 50/50\n",
            "804/804 [==============================] - 1s 1ms/step - loss: 0.5315 - accuracy: 0.7420\n"
          ]
        }
      ]
    },
    {
      "cell_type": "markdown",
      "metadata": {
        "id": "aMZAmHrlURsK"
      },
      "source": [
        "#### Alternative Model 2"
      ]
    },
    {
      "cell_type": "code",
      "metadata": {
        "id": "Mw0cxkvOURsK",
        "colab": {
          "base_uri": "https://localhost:8080/"
        },
        "outputId": "a0fb8a90-813d-4fea-bbf2-7872488b4841"
      },
      "source": [
        "# Define the the number of inputs (features) to the model\n",
        "number_input_features = len(X_train.iloc[0])\n",
        "\n",
        "# Review the number of features\n",
        "number_input_features"
      ],
      "execution_count": 84,
      "outputs": [
        {
          "output_type": "execute_result",
          "data": {
            "text/plain": [
              "116"
            ]
          },
          "metadata": {},
          "execution_count": 84
        }
      ]
    },
    {
      "cell_type": "code",
      "metadata": {
        "id": "qnLSrAKJURsK"
      },
      "source": [
        "# Define the number of neurons in the output layer\n",
        "number_output_neurons_A2 = 1"
      ],
      "execution_count": 85,
      "outputs": []
    },
    {
      "cell_type": "code",
      "metadata": {
        "id": "myK4iGVBURsK",
        "colab": {
          "base_uri": "https://localhost:8080/"
        },
        "outputId": "9b5f99b5-5a29-4c95-a220-118d35899f86"
      },
      "source": [
        "# Define the number of hidden nodes for the first hidden layer\n",
        "hidden_nodes_layer1_A2 = 95\n",
        "\n",
        "# Review the number of hidden nodes in the first layer\n",
        "hidden_nodes_layer1_A2"
      ],
      "execution_count": 86,
      "outputs": [
        {
          "output_type": "execute_result",
          "data": {
            "text/plain": [
              "95"
            ]
          },
          "metadata": {},
          "execution_count": 86
        }
      ]
    },
    {
      "cell_type": "code",
      "source": [
        "# Define the number of hidden nodes for the second hidden layer\n",
        "hidden_nodes_layer2_A2 = 48\n",
        "\n",
        "# Review the number of hidden nodes in the second layer\n",
        "hidden_nodes_layer2_A2"
      ],
      "metadata": {
        "colab": {
          "base_uri": "https://localhost:8080/"
        },
        "id": "TkaUCSWy4Ys3",
        "outputId": "3bcacb41-5e24-44ff-d5c7-b89a0aa0dde7"
      },
      "execution_count": 87,
      "outputs": [
        {
          "output_type": "execute_result",
          "data": {
            "text/plain": [
              "48"
            ]
          },
          "metadata": {},
          "execution_count": 87
        }
      ]
    },
    {
      "cell_type": "code",
      "source": [
        "# Define the number of hidden nodes for the third hidden layer\n",
        "hidden_nodes_layer3_A2 = 24\n",
        "\n",
        "# Review the number of hidden nodes in the third layer\n",
        "hidden_nodes_layer3_A2"
      ],
      "metadata": {
        "colab": {
          "base_uri": "https://localhost:8080/"
        },
        "id": "7rXyxhF94Z6g",
        "outputId": "c31ec4d9-5328-4f21-dd48-2c1abb1fe971"
      },
      "execution_count": 88,
      "outputs": [
        {
          "output_type": "execute_result",
          "data": {
            "text/plain": [
              "24"
            ]
          },
          "metadata": {},
          "execution_count": 88
        }
      ]
    },
    {
      "cell_type": "code",
      "metadata": {
        "id": "lB6J98OSURsL"
      },
      "source": [
        "# Create the Sequential model instance\n",
        "nn_A2 = Sequential()"
      ],
      "execution_count": 89,
      "outputs": []
    },
    {
      "cell_type": "code",
      "metadata": {
        "id": "EX5HLuh9URsL",
        "colab": {
          "base_uri": "https://localhost:8080/"
        },
        "outputId": "c5499111-128e-48c0-af54-62a72feec95f"
      },
      "source": [
        "# First hidden layer\n",
        "nn_A2.add(Dense(units=hidden_nodes_layer1_A2, input_dim=number_input_features, activation=\"relu\"))\n",
        "\n",
        "# Second hidden layer\n",
        "nn_A2.add(Dense(units=hidden_nodes_layer2_A2, activation=\"relu\"))\n",
        "\n",
        "# Third hidden layer\n",
        "nn_A2.add(Dense(units=hidden_nodes_layer3_A2, activation=\"relu\"))\n",
        "\n",
        "\n",
        "# Output layer\n",
        "nn_A2.add(Dense(units=1, activation=\"sigmoid\"))\n",
        "\n",
        "# Check the structure of the model\n",
        "nn_A2\n"
      ],
      "execution_count": 90,
      "outputs": [
        {
          "output_type": "execute_result",
          "data": {
            "text/plain": [
              "<keras.engine.sequential.Sequential at 0x7f0f51290430>"
            ]
          },
          "metadata": {},
          "execution_count": 90
        }
      ]
    },
    {
      "cell_type": "code",
      "metadata": {
        "id": "JrI6zrIRURsL"
      },
      "source": [
        "# Compile the model\n",
        "nn_A2.compile(loss=\"binary_crossentropy\", optimizer=\"adam\", metrics=[\"accuracy\"])\n"
      ],
      "execution_count": 91,
      "outputs": []
    },
    {
      "cell_type": "code",
      "metadata": {
        "id": "8M3fXVn_URsL",
        "colab": {
          "base_uri": "https://localhost:8080/"
        },
        "outputId": "59b99c10-5bba-4d64-fc70-f0a4bcb6e72b"
      },
      "source": [
        "# Fit the model\n",
        "fit_model_A2 = nn_A2.fit(X_train_scaled, y_train, epochs=50)\n"
      ],
      "execution_count": 92,
      "outputs": [
        {
          "output_type": "stream",
          "name": "stdout",
          "text": [
            "Epoch 1/50\n",
            "804/804 [==============================] - 2s 1ms/step - loss: 0.5717 - accuracy: 0.7233\n",
            "Epoch 2/50\n",
            "804/804 [==============================] - 1s 1ms/step - loss: 0.5516 - accuracy: 0.7296\n",
            "Epoch 3/50\n",
            "804/804 [==============================] - 1s 1ms/step - loss: 0.5490 - accuracy: 0.7323\n",
            "Epoch 4/50\n",
            "804/804 [==============================] - 1s 1ms/step - loss: 0.5463 - accuracy: 0.7322\n",
            "Epoch 5/50\n",
            "804/804 [==============================] - 1s 1ms/step - loss: 0.5451 - accuracy: 0.7341\n",
            "Epoch 6/50\n",
            "804/804 [==============================] - 1s 1ms/step - loss: 0.5438 - accuracy: 0.7343\n",
            "Epoch 7/50\n",
            "804/804 [==============================] - 1s 1ms/step - loss: 0.5425 - accuracy: 0.7350\n",
            "Epoch 8/50\n",
            "804/804 [==============================] - 1s 1ms/step - loss: 0.5424 - accuracy: 0.7356\n",
            "Epoch 9/50\n",
            "804/804 [==============================] - 1s 2ms/step - loss: 0.5409 - accuracy: 0.7369\n",
            "Epoch 10/50\n",
            "804/804 [==============================] - 1s 2ms/step - loss: 0.5404 - accuracy: 0.7358\n",
            "Epoch 11/50\n",
            "804/804 [==============================] - 1s 1ms/step - loss: 0.5401 - accuracy: 0.7364\n",
            "Epoch 12/50\n",
            "804/804 [==============================] - 1s 1ms/step - loss: 0.5391 - accuracy: 0.7374\n",
            "Epoch 13/50\n",
            "804/804 [==============================] - 1s 1ms/step - loss: 0.5388 - accuracy: 0.7369\n",
            "Epoch 14/50\n",
            "804/804 [==============================] - 1s 1ms/step - loss: 0.5385 - accuracy: 0.7383\n",
            "Epoch 15/50\n",
            "804/804 [==============================] - 1s 1ms/step - loss: 0.5384 - accuracy: 0.7389\n",
            "Epoch 16/50\n",
            "804/804 [==============================] - 1s 1ms/step - loss: 0.5374 - accuracy: 0.7389\n",
            "Epoch 17/50\n",
            "804/804 [==============================] - 1s 1ms/step - loss: 0.5370 - accuracy: 0.7385\n",
            "Epoch 18/50\n",
            "804/804 [==============================] - 1s 1ms/step - loss: 0.5365 - accuracy: 0.7382\n",
            "Epoch 19/50\n",
            "804/804 [==============================] - 1s 1ms/step - loss: 0.5360 - accuracy: 0.7391\n",
            "Epoch 20/50\n",
            "804/804 [==============================] - 1s 1ms/step - loss: 0.5365 - accuracy: 0.7388\n",
            "Epoch 21/50\n",
            "804/804 [==============================] - 1s 1ms/step - loss: 0.5362 - accuracy: 0.7394\n",
            "Epoch 22/50\n",
            "804/804 [==============================] - 1s 2ms/step - loss: 0.5356 - accuracy: 0.7399\n",
            "Epoch 23/50\n",
            "804/804 [==============================] - 1s 2ms/step - loss: 0.5353 - accuracy: 0.7390\n",
            "Epoch 24/50\n",
            "804/804 [==============================] - 1s 1ms/step - loss: 0.5350 - accuracy: 0.7400\n",
            "Epoch 25/50\n",
            "804/804 [==============================] - 1s 1ms/step - loss: 0.5351 - accuracy: 0.7397\n",
            "Epoch 26/50\n",
            "804/804 [==============================] - 1s 1ms/step - loss: 0.5341 - accuracy: 0.7397\n",
            "Epoch 27/50\n",
            "804/804 [==============================] - 1s 1ms/step - loss: 0.5339 - accuracy: 0.7402\n",
            "Epoch 28/50\n",
            "804/804 [==============================] - 1s 1ms/step - loss: 0.5345 - accuracy: 0.7396\n",
            "Epoch 29/50\n",
            "804/804 [==============================] - 1s 1ms/step - loss: 0.5339 - accuracy: 0.7394\n",
            "Epoch 30/50\n",
            "804/804 [==============================] - 1s 1ms/step - loss: 0.5339 - accuracy: 0.7401\n",
            "Epoch 31/50\n",
            "804/804 [==============================] - 1s 1ms/step - loss: 0.5329 - accuracy: 0.7406\n",
            "Epoch 32/50\n",
            "804/804 [==============================] - 1s 1ms/step - loss: 0.5330 - accuracy: 0.7405\n",
            "Epoch 33/50\n",
            "804/804 [==============================] - 1s 1ms/step - loss: 0.5326 - accuracy: 0.7408\n",
            "Epoch 34/50\n",
            "804/804 [==============================] - 1s 2ms/step - loss: 0.5326 - accuracy: 0.7409\n",
            "Epoch 35/50\n",
            "804/804 [==============================] - 1s 2ms/step - loss: 0.5322 - accuracy: 0.7404\n",
            "Epoch 36/50\n",
            "804/804 [==============================] - 1s 1ms/step - loss: 0.5321 - accuracy: 0.7408\n",
            "Epoch 37/50\n",
            "804/804 [==============================] - 1s 1ms/step - loss: 0.5317 - accuracy: 0.7405\n",
            "Epoch 38/50\n",
            "804/804 [==============================] - 1s 1ms/step - loss: 0.5317 - accuracy: 0.7412\n",
            "Epoch 39/50\n",
            "804/804 [==============================] - 1s 1ms/step - loss: 0.5314 - accuracy: 0.7419\n",
            "Epoch 40/50\n",
            "804/804 [==============================] - 1s 1ms/step - loss: 0.5312 - accuracy: 0.7416\n",
            "Epoch 41/50\n",
            "804/804 [==============================] - 1s 1ms/step - loss: 0.5305 - accuracy: 0.7413\n",
            "Epoch 42/50\n",
            "804/804 [==============================] - 1s 1ms/step - loss: 0.5307 - accuracy: 0.7416\n",
            "Epoch 43/50\n",
            "804/804 [==============================] - 1s 1ms/step - loss: 0.5307 - accuracy: 0.7418\n",
            "Epoch 44/50\n",
            "804/804 [==============================] - 1s 1ms/step - loss: 0.5310 - accuracy: 0.7414\n",
            "Epoch 45/50\n",
            "804/804 [==============================] - 1s 1ms/step - loss: 0.5305 - accuracy: 0.7416\n",
            "Epoch 46/50\n",
            "804/804 [==============================] - 1s 1ms/step - loss: 0.5299 - accuracy: 0.7424\n",
            "Epoch 47/50\n",
            "804/804 [==============================] - 1s 2ms/step - loss: 0.5304 - accuracy: 0.7419\n",
            "Epoch 48/50\n",
            "804/804 [==============================] - 1s 2ms/step - loss: 0.5300 - accuracy: 0.7420\n",
            "Epoch 49/50\n",
            "804/804 [==============================] - 1s 1ms/step - loss: 0.5298 - accuracy: 0.7420\n",
            "Epoch 50/50\n",
            "804/804 [==============================] - 1s 1ms/step - loss: 0.5296 - accuracy: 0.7426\n"
          ]
        }
      ]
    },
    {
      "cell_type": "markdown",
      "metadata": {
        "id": "JkA48Z4hURsL"
      },
      "source": [
        "### Step 2: After finishing your models, display the accuracy scores achieved by each model, and compare the results."
      ]
    },
    {
      "cell_type": "code",
      "metadata": {
        "id": "RXhF6K8SURsL",
        "colab": {
          "base_uri": "https://localhost:8080/"
        },
        "outputId": "9a909728-b34c-4bf0-cad3-e17cae84dc46"
      },
      "source": [
        "print(\"Original Model Results\")\n",
        "\n",
        "# Evaluate the model loss and accuracy metrics using the evaluate method and the test data\n",
        "model_loss, model_accuracy = nn.evaluate(X_test_scaled,y_test,verbose=2)\n",
        "\n",
        "# Display the model loss and accuracy results\n",
        "print(f\"Loss: {model_loss}, Accuracy: {model_accuracy}\")"
      ],
      "execution_count": 93,
      "outputs": [
        {
          "output_type": "stream",
          "name": "stdout",
          "text": [
            "Original Model Results\n",
            "268/268 - 0s - loss: 0.6411 - accuracy: 0.7298 - 216ms/epoch - 806us/step\n",
            "Loss: 0.6411337852478027, Accuracy: 0.7297959327697754\n"
          ]
        }
      ]
    },
    {
      "cell_type": "code",
      "metadata": {
        "id": "W52oclvkURsL",
        "colab": {
          "base_uri": "https://localhost:8080/"
        },
        "outputId": "e9076b3a-c7db-4742-9ce4-e37496fd5d0a"
      },
      "source": [
        "print(\"Alternative Model 1 Results\")\n",
        "\n",
        "# Evaluate the model loss and accuracy metrics using the evaluate method and the test data\n",
        "model_loss, model_accuracy = nn_A1.evaluate(X_test_scaled,y_test,verbose=2)\n",
        "\n",
        "# Display the model loss and accuracy results\n",
        "print(f\"Loss: {model_loss}, Accuracy: {model_accuracy}\")"
      ],
      "execution_count": 94,
      "outputs": [
        {
          "output_type": "stream",
          "name": "stdout",
          "text": [
            "Alternative Model 1 Results\n",
            "268/268 - 0s - loss: 0.5640 - accuracy: 0.7303 - 336ms/epoch - 1ms/step\n",
            "Loss: 0.5640259385108948, Accuracy: 0.7302623987197876\n"
          ]
        }
      ]
    },
    {
      "cell_type": "code",
      "metadata": {
        "id": "4yPtU8_nURsL",
        "colab": {
          "base_uri": "https://localhost:8080/"
        },
        "outputId": "7b3e1e38-804d-43fc-9f33-c8bf93cf2dab"
      },
      "source": [
        "print(\"Alternative Model 2 Results\")\n",
        "\n",
        "# Evaluate the model loss and accuracy metrics using the evaluate method and the test data\n",
        "model_loss, model_accuracy = nn_A2.evaluate(X_test_scaled,y_test,verbose=2)\n",
        "\n",
        "# Display the model loss and accuracy results\n",
        "print(f\"Loss: {model_loss}, Accuracy: {model_accuracy}\")"
      ],
      "execution_count": 95,
      "outputs": [
        {
          "output_type": "stream",
          "name": "stdout",
          "text": [
            "Alternative Model 2 Results\n",
            "268/268 - 0s - loss: 0.5606 - accuracy: 0.7305 - 317ms/epoch - 1ms/step\n",
            "Loss: 0.5605587363243103, Accuracy: 0.7304956316947937\n"
          ]
        }
      ]
    },
    {
      "cell_type": "markdown",
      "metadata": {
        "id": "eQ3b2y7OURsM"
      },
      "source": [
        "### Step 3: Save each of your alternative models as an HDF5 file.\n"
      ]
    },
    {
      "cell_type": "code",
      "metadata": {
        "id": "a1tXiNBZURsM"
      },
      "source": [
        "# Set the file path for the first alternative model\n",
        "file_path = \"alternative_model_1.h5\"\n",
        "\n",
        "# Export your model to a HDF5 file\n",
        "nn.save(file_path)\n"
      ],
      "execution_count": 96,
      "outputs": []
    },
    {
      "cell_type": "code",
      "metadata": {
        "id": "W9KTZW35URsM"
      },
      "source": [
        "# Set the file path for the second alternative model\n",
        "file_path = \"alternative_model_2.h5\"\n",
        "\n",
        "# Export your model to a HDF5 file\n",
        "nn.save(file_path)\n"
      ],
      "execution_count": 97,
      "outputs": []
    },
    {
      "cell_type": "code",
      "metadata": {
        "id": "IiQ2lyQuURsM"
      },
      "source": [],
      "execution_count": 97,
      "outputs": []
    }
  ]
}